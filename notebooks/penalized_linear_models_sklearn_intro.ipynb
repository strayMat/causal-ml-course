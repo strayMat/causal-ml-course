{
 "cells": [
  {
   "cell_type": "code",
   "execution_count": null,
   "id": "0040b9ce",
   "metadata": {},
   "outputs": [],
   "source": [
    "import pandas as pd"
   ]
  },
  {
   "cell_type": "code",
   "execution_count": null,
   "id": "40d7e94f",
   "metadata": {
    "lines_to_next_cell": 0
   },
   "outputs": [],
   "source": [
    "# We fetch the data from `OpenML <http://openml.org/>`_.\n",
    "# Note that setting the parameter `as_frame` to True will retrieve the data\n",
    "# as a pandas dataframe.\n",
    "from sklearn.datasets import fetch_openml\n",
    "\n",
    "adult_census_data = fetch_openml(data_id=1590, as_frame=True)"
   ]
  },
  {
   "cell_type": "markdown",
   "id": "39fb42b8",
   "metadata": {
    "lines_to_next_cell": 0
   },
   "source": [
    "Inspection of the dataset\n",
    "\n",
    "```{note}\n",
    "We use the [Pandas](https://pandas.pydata.org/) Python library to work\n",
    "manipulate 1 and 2 dimensional structured data. If you have never used\n",
    "pandas, we recommend you look at this\n",
    "[tutorial](https://pandas.pydata.org/docs/user_guide/10min.html).\n",
    "```"
   ]
  },
  {
   "cell_type": "code",
   "execution_count": null,
   "id": "feb5efd7",
   "metadata": {
    "lines_to_next_cell": 0
   },
   "outputs": [],
   "source": [
    "# The adult_census_data object is a dictionary-like object which contains:\n",
    "print(adult_census_data.keys())"
   ]
  },
  {
   "cell_type": "code",
   "execution_count": null,
   "id": "26935374",
   "metadata": {
    "lines_to_next_cell": 0
   },
   "outputs": [],
   "source": [
    "# We can read a description of the dataset using the DESCR key of the\n",
    "print(adult_census_data.DESCR)"
   ]
  },
  {
   "cell_type": "code",
   "execution_count": null,
   "id": "5c995f48",
   "metadata": {
    "lines_to_next_cell": 0
   },
   "outputs": [],
   "source": [
    "# Let's look at the dataframe itself\n",
    "adult_census = adult_census_data.frame\n",
    "# Print the dimensions and the first few rows of the dataframe\n",
    "print(adult_census.shape)\n",
    "adult_census.head()"
   ]
  },
  {
   "cell_type": "markdown",
   "id": "b6c04997",
   "metadata": {
    "lines_to_next_cell": 0
   },
   "source": [
    "# Focus on the target variable"
   ]
  },
  {
   "cell_type": "code",
   "execution_count": null,
   "id": "05ce101f",
   "metadata": {},
   "outputs": [],
   "source": [
    "# The target is the class variable: 'class'\n",
    "target_name = \"class\"\n",
    "y = adult_census[target_name]\n",
    "adult_census[target_name].value_counts()"
   ]
  },
  {
   "cell_type": "markdown",
   "id": "edd8a26e",
   "metadata": {
    "lines_to_next_cell": 0
   },
   "source": [
    "```{note}\n",
    "Here, classes are slightly imbalanced, meaning there are more samples of one\n",
    "or more classes compared to others. In this case, we have many more samples\n",
    "with `\" <=50K\"` than with `\" >50K\"`. Class imbalance happens often in practice\n",
    "and may need special techniques when building a predictive model.\n",
    "\n",
    "For example in a medical setting, if we are trying to predict whether subjects\n",
    "may develop a rare disease, there would be a lot more healthy subjects than\n",
    "ill subjects in the dataset.\n",
    "```\n",
    "# Visual inspection of the data\n",
    "\n",
    "## Distinguish numerical and categorical columns\n",
    "The dataset contains both numerical and categorical data. Numerical values take continuous values, for example \"age\". Categorical values can have a finite number of values, for example \"native-country\"."
   ]
  },
  {
   "cell_type": "code",
   "execution_count": null,
   "id": "3ef51300",
   "metadata": {},
   "outputs": [],
   "source": [
    "numerical_columns = [\n",
    "    \"age\",\n",
    "    \"education-num\",\n",
    "    \"capital-gain\",\n",
    "    \"capital-loss\",\n",
    "    \"hours-per-week\",\n",
    "]\n",
    "categorical_columns = [\n",
    "    \"workclass\",\n",
    "    \"education\",\n",
    "    \"marital-status\",\n",
    "    \"occupation\",\n",
    "    \"relationship\",\n",
    "    \"race\",\n",
    "    \"sex\",\n",
    "    \"native-country\",\n",
    "]\n",
    "all_columns = numerical_columns + categorical_columns + [target_name]\n",
    "adult_census = adult_census[all_columns]"
   ]
  },
  {
   "cell_type": "markdown",
   "id": "023baada",
   "metadata": {
    "lines_to_next_cell": 0
   },
   "source": [
    "## Display histograms for numerical columns\n",
    "Let’s look at the distribution of individual features, to get some insights about the data. We can start by plotting histograms, note that this only works for features containing numerical values:"
   ]
  },
  {
   "cell_type": "code",
   "execution_count": null,
   "id": "d3d0a5d2",
   "metadata": {
    "lines_to_next_cell": 0
   },
   "outputs": [],
   "source": [
    "_ = adult_census.hist(figsize=(20, 14))"
   ]
  },
  {
   "cell_type": "markdown",
   "id": "52095182",
   "metadata": {},
   "source": [
    "## Display the unique values of the categorical columns"
   ]
  },
  {
   "cell_type": "code",
   "execution_count": null,
   "id": "61150279",
   "metadata": {
    "lines_to_next_cell": 0
   },
   "outputs": [],
   "source": [
    "adult_census[\"sex\"].value_counts()"
   ]
  },
  {
   "cell_type": "markdown",
   "id": "87ed8538",
   "metadata": {
    "lines_to_next_cell": 0
   },
   "source": [
    "Quite unbalanced!"
   ]
  },
  {
   "cell_type": "code",
   "execution_count": null,
   "id": "b21b46ef",
   "metadata": {
    "lines_to_next_cell": 0
   },
   "outputs": [],
   "source": [
    "adult_census[\"education\"].value_counts()"
   ]
  },
  {
   "cell_type": "markdown",
   "id": "35d24151",
   "metadata": {
    "lines_to_next_cell": 0
   },
   "source": [
    "As noted above, \"education-num\" distribution has two clear peaks around 10 and 13. It would be reasonable to expect that \"education-num\" is the number of years of education.\n",
    "\n",
    "Let’s look at the relationship between \"education\" and \"education-num\"."
   ]
  },
  {
   "cell_type": "code",
   "execution_count": null,
   "id": "e971ceb5",
   "metadata": {
    "lines_to_next_cell": 0
   },
   "outputs": [],
   "source": [
    "pd.crosstab(index=adult_census[\"education\"], columns=adult_census[\"education-num\"])"
   ]
  },
  {
   "cell_type": "markdown",
   "id": "44bd3212",
   "metadata": {
    "lines_to_next_cell": 0
   },
   "source": [
    "One-liner dataset inspection:"
   ]
  },
  {
   "cell_type": "code",
   "execution_count": null,
   "id": "4c4a9487",
   "metadata": {
    "lines_to_next_cell": 0
   },
   "outputs": [],
   "source": [
    "!pip install skrub"
   ]
  },
  {
   "cell_type": "code",
   "execution_count": null,
   "id": "02187eb3",
   "metadata": {
    "lines_to_next_cell": 0
   },
   "outputs": [],
   "source": [
    "from skrub import TableReport\n",
    "report = TableReport(adult_census)\n",
    "report"
   ]
  },
  {
   "cell_type": "markdown",
   "id": "de15aaa9",
   "metadata": {
    "lines_to_next_cell": 0
   },
   "source": [
    "Build the predictive model\n",
    "# Separate the target variable from the data"
   ]
  },
  {
   "cell_type": "code",
   "execution_count": null,
   "id": "7f3c3b8f",
   "metadata": {
    "lines_to_next_cell": 0
   },
   "outputs": [],
   "source": [
    "data = adult_census.drop(columns=[target_name])\n",
    "data"
   ]
  },
  {
   "cell_type": "markdown",
   "id": "80224c08",
   "metadata": {
    "lines_to_next_cell": 0
   },
   "source": [
    "# Select only some numerical columns\n",
    "For simplicity, we will select only the numerical columns in this dataset."
   ]
  },
  {
   "cell_type": "code",
   "execution_count": null,
   "id": "7050acc8",
   "metadata": {
    "lines_to_next_cell": 0
   },
   "outputs": [],
   "source": [
    "data_numeric = data[numerical_columns]\n",
    "data_numeric"
   ]
  },
  {
   "cell_type": "markdown",
   "id": "23bad7f5",
   "metadata": {
    "lines_to_next_cell": 0
   },
   "source": [
    "## Separate training and testing data"
   ]
  },
  {
   "cell_type": "code",
   "execution_count": null,
   "id": "576292c6",
   "metadata": {
    "lines_to_next_cell": 0
   },
   "outputs": [],
   "source": [
    "from sklearn.model_selection import train_test_split\n",
    "\n",
    "data_numeric_train, data_numeric_test, y_train, y_test = train_test_split(\n",
    "    data_numeric, y, random_state=42\n",
    ")\n",
    "# ## First model"
   ]
  },
  {
   "cell_type": "code",
   "execution_count": null,
   "id": "2b2a2a4f",
   "metadata": {
    "lines_to_next_cell": 0
   },
   "outputs": [],
   "source": [
    "from sklearn.linear_model import LogisticRegression\n",
    "\n",
    "# model declaration\n",
    "model = LogisticRegression()\n",
    "model"
   ]
  },
  {
   "cell_type": "code",
   "execution_count": null,
   "id": "65a8dff9",
   "metadata": {
    "lines_to_next_cell": 0
   },
   "outputs": [],
   "source": [
    "# model fitting/training\n",
    "_ = model.fit(data_numeric_train, y_train)"
   ]
  },
  {
   "cell_type": "markdown",
   "id": "e098eafa",
   "metadata": {
    "lines_to_next_cell": 0
   },
   "source": [
    "## Remarks on fitting a model\n",
    "\n",
    "# ![Predictor fit diagram](../slides/img/ML_1/api_diagram-predictor.fit.svg)\n",
    " In scikit-learn an object that has a fit method is called an estimator. The method fit is composed of two elements: (i) a learning algorithm and (ii) some model states. The learning algorithm takes the training data and training target as input and sets the model states. These model states are later used to either predict (for classifiers and regressors) or transform data (for transformers)."
   ]
  },
  {
   "cell_type": "code",
   "execution_count": null,
   "id": "ad781703",
   "metadata": {
    "lines_to_next_cell": 0
   },
   "outputs": [],
   "source": [
    "# model prediction\n",
    "y_train_predicted = model.predict(data_numeric_train)"
   ]
  },
  {
   "cell_type": "markdown",
   "id": "3c9a1ae4",
   "metadata": {},
   "source": [
    "# ![Predictor predict diagram](../slides/img/ML_1/api_diagram-predictor.predict.svg)"
   ]
  },
  {
   "cell_type": "code",
   "execution_count": null,
   "id": "5291dea1",
   "metadata": {
    "lines_to_next_cell": 0
   },
   "outputs": [],
   "source": [
    "# model evaluation (by hand):\n",
    "print(\n",
    "    \"Number of correct prediction for the five first rows: \"\n",
    "    f\"{(y_train[:5] == y_train_predicted[:5]).sum()} / 5\"\n",
    ")"
   ]
  },
  {
   "cell_type": "markdown",
   "id": "0f9858bd",
   "metadata": {
    "lines_to_next_cell": 0
   },
   "source": [
    "To get a better assessment, we can compute the average success rate."
   ]
  },
  {
   "cell_type": "code",
   "execution_count": null,
   "id": "7d4ee0cd",
   "metadata": {},
   "outputs": [],
   "source": [
    "(y_train == y_train_predicted).mean()"
   ]
  },
  {
   "cell_type": "markdown",
   "id": "8237d9a7",
   "metadata": {
    "lines_to_next_cell": 0
   },
   "source": [
    "## Evaluation of the model"
   ]
  },
  {
   "cell_type": "code",
   "execution_count": null,
   "id": "46172905",
   "metadata": {},
   "outputs": [],
   "source": [
    "accuracy = model.score(data_numeric_test, y_test)\n",
    "model_name = model.__class__.__name__\n",
    "print(f\"The test accuracy using a {model_name} is {accuracy:.3f}\")"
   ]
  },
  {
   "cell_type": "markdown",
   "id": "762fee4e",
   "metadata": {
    "lines_to_next_cell": 0
   },
   "source": [
    "We use the generic term model for objects whose goodness of fit can be measured using the score method. Let’s check the underlying mechanism when calling score:\n",
    "# ![Predictor score diagram](../slides/img/ML_1/api_diagram-predictor.score.svg)"
   ]
  },
  {
   "cell_type": "code",
   "execution_count": null,
   "id": "d4f6506f",
   "metadata": {},
   "outputs": [],
   "source": [
    "# More detailed evaluation of the model\n",
    "from sklearn.metrics import classification_report\n",
    "\n",
    "print(classification_report(y_test, model.predict(data_numeric_test)))"
   ]
  }
 ],
 "metadata": {
  "jupytext": {
   "cell_metadata_filter": "-all",
   "main_language": "python",
   "notebook_metadata_filter": "-all"
  }
 },
 "nbformat": 4,
 "nbformat_minor": 5
}
