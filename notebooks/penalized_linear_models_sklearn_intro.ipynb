{
 "cells": [
  {
   "cell_type": "code",
   "execution_count": 1,
   "id": "022fa611",
   "metadata": {},
   "outputs": [
    {
     "name": "stderr",
     "output_type": "stream",
     "text": [
      "/tmp/ipykernel_577046/4080736814.py:1: DeprecationWarning: \n",
      "Pyarrow will become a required dependency of pandas in the next major release of pandas (pandas 3.0),\n",
      "(to allow more performant data types, such as the Arrow string type, and better interoperability with other libraries)\n",
      "but was not found to be installed on your system.\n",
      "If this would cause problems for you,\n",
      "please provide us feedback at https://github.com/pandas-dev/pandas/issues/54466\n",
      "        \n",
      "  import pandas as pd\n"
     ]
    }
   ],
   "source": [
    "import pandas as pd"
   ]
  },
  {
   "cell_type": "code",
   "execution_count": 2,
   "id": "012e094c",
   "metadata": {
    "lines_to_next_cell": 0
   },
   "outputs": [],
   "source": [
    "# We fetch the data from `OpenML <http://openml.org/>`_.\n",
    "# Note that setting the parameter `as_frame` to True will retrieve the data\n",
    "# as a pandas dataframe.\n",
    "from sklearn.datasets import fetch_openml\n",
    "\n",
    "adult_census_data = fetch_openml(data_id=1590, as_frame=True)"
   ]
  },
  {
   "cell_type": "markdown",
   "id": "deac9b94",
   "metadata": {
    "lines_to_next_cell": 0
   },
   "source": [
    "Inspection of the dataset\n",
    "\n",
    "```{note}\n",
    "We use the [Pandas](https://pandas.pydata.org/) Python library to work\n",
    "manipulate 1 and 2 dimensional structured data. If you have never used\n",
    "pandas, we recommend you look at this\n",
    "[tutorial](https://pandas.pydata.org/docs/user_guide/10min.html).\n",
    "```"
   ]
  },
  {
   "cell_type": "code",
   "execution_count": 3,
   "id": "1f746552",
   "metadata": {
    "lines_to_next_cell": 0
   },
   "outputs": [
    {
     "name": "stdout",
     "output_type": "stream",
     "text": [
      "dict_keys(['data', 'target', 'frame', 'categories', 'feature_names', 'target_names', 'DESCR', 'details', 'url'])\n"
     ]
    }
   ],
   "source": [
    "# The adult_census_data object is a dictionary-like object which contains:\n",
    "print(adult_census_data.keys())"
   ]
  },
  {
   "cell_type": "code",
   "execution_count": 4,
   "id": "0eff276c",
   "metadata": {
    "lines_to_next_cell": 0
   },
   "outputs": [
    {
     "name": "stdout",
     "output_type": "stream",
     "text": [
      "**Author**: Ronny Kohavi and Barry Becker  \n",
      "**Source**: [UCI](https://archive.ics.uci.edu/ml/datasets/Adult) - 1996  \n",
      "**Please cite**: Ron Kohavi, \"Scaling Up the Accuracy of Naive-Bayes Classifiers: a Decision-Tree Hybrid\", Proceedings of the Second International Conference on Knowledge Discovery and Data Mining, 1996  \n",
      "\n",
      "Prediction task is to determine whether a person makes over 50K a year. Extraction was done by Barry Becker from the 1994 Census database. A set of reasonably clean records was extracted using the following conditions: ((AAGE>16) && (AGI>100) && (AFNLWGT>1)&& (HRSWK>0))\n",
      "\n",
      "This is the original version from the UCI repository, with training and test sets merged.\n",
      "\n",
      "### Variable description\n",
      "\n",
      "Variables are all self-explanatory except __fnlwgt__. This is a proxy for the demographic background of the people: \"People with similar demographic characteristics should have similar weights\". This similarity-statement is not transferable across the 51 different states.\n",
      "\n",
      "Description from the donor of the database: \n",
      "\n",
      "The weights on the CPS files are controlled to independent estimates of the civilian noninstitutional population of the US.  These are prepared monthly for us by Population Division here at the Census Bureau. We use 3 sets of controls. These are:\n",
      "1.  A single cell estimate of the population 16+ for each state.\n",
      "2.  Controls for Hispanic Origin by age and sex.\n",
      "3.  Controls by Race, age and sex.\n",
      "\n",
      "We use all three sets of controls in our weighting program and \"rake\" through them 6 times so that by the end we come back to all the controls we used. The term estimate refers to population totals derived from CPS by creating \"weighted tallies\" of any specified socio-economic characteristics of the population. People with similar demographic characteristics should have similar weights. There is one important caveat to remember about this statement. That is that since the CPS sample is actually a collection of 51 state samples, each with its own probability of selection, the statement only applies within state.\n",
      "\n",
      "\n",
      "### Relevant papers  \n",
      "\n",
      "Ronny Kohavi and Barry Becker. Data Mining and Visualization, Silicon Graphics.  \n",
      "e-mail: ronnyk '@' live.com for questions.\n",
      "\n",
      "Downloaded from openml.org.\n"
     ]
    }
   ],
   "source": [
    "# We can read a description of the dataset using the DESCR key of the\n",
    "print(adult_census_data.DESCR)"
   ]
  },
  {
   "cell_type": "code",
   "execution_count": 5,
   "id": "8f7c9491",
   "metadata": {
    "lines_to_next_cell": 0
   },
   "outputs": [
    {
     "name": "stdout",
     "output_type": "stream",
     "text": [
      "(48842, 15)\n"
     ]
    },
    {
     "data": {
      "text/html": [
       "<div>\n",
       "<style scoped>\n",
       "    .dataframe tbody tr th:only-of-type {\n",
       "        vertical-align: middle;\n",
       "    }\n",
       "\n",
       "    .dataframe tbody tr th {\n",
       "        vertical-align: top;\n",
       "    }\n",
       "\n",
       "    .dataframe thead th {\n",
       "        text-align: right;\n",
       "    }\n",
       "</style>\n",
       "<table border=\"1\" class=\"dataframe\">\n",
       "  <thead>\n",
       "    <tr style=\"text-align: right;\">\n",
       "      <th></th>\n",
       "      <th>age</th>\n",
       "      <th>workclass</th>\n",
       "      <th>fnlwgt</th>\n",
       "      <th>education</th>\n",
       "      <th>education-num</th>\n",
       "      <th>marital-status</th>\n",
       "      <th>occupation</th>\n",
       "      <th>relationship</th>\n",
       "      <th>race</th>\n",
       "      <th>sex</th>\n",
       "      <th>capital-gain</th>\n",
       "      <th>capital-loss</th>\n",
       "      <th>hours-per-week</th>\n",
       "      <th>native-country</th>\n",
       "      <th>class</th>\n",
       "    </tr>\n",
       "  </thead>\n",
       "  <tbody>\n",
       "    <tr>\n",
       "      <th>0</th>\n",
       "      <td>25</td>\n",
       "      <td>Private</td>\n",
       "      <td>226802</td>\n",
       "      <td>11th</td>\n",
       "      <td>7</td>\n",
       "      <td>Never-married</td>\n",
       "      <td>Machine-op-inspct</td>\n",
       "      <td>Own-child</td>\n",
       "      <td>Black</td>\n",
       "      <td>Male</td>\n",
       "      <td>0</td>\n",
       "      <td>0</td>\n",
       "      <td>40</td>\n",
       "      <td>United-States</td>\n",
       "      <td>&lt;=50K</td>\n",
       "    </tr>\n",
       "    <tr>\n",
       "      <th>1</th>\n",
       "      <td>38</td>\n",
       "      <td>Private</td>\n",
       "      <td>89814</td>\n",
       "      <td>HS-grad</td>\n",
       "      <td>9</td>\n",
       "      <td>Married-civ-spouse</td>\n",
       "      <td>Farming-fishing</td>\n",
       "      <td>Husband</td>\n",
       "      <td>White</td>\n",
       "      <td>Male</td>\n",
       "      <td>0</td>\n",
       "      <td>0</td>\n",
       "      <td>50</td>\n",
       "      <td>United-States</td>\n",
       "      <td>&lt;=50K</td>\n",
       "    </tr>\n",
       "    <tr>\n",
       "      <th>2</th>\n",
       "      <td>28</td>\n",
       "      <td>Local-gov</td>\n",
       "      <td>336951</td>\n",
       "      <td>Assoc-acdm</td>\n",
       "      <td>12</td>\n",
       "      <td>Married-civ-spouse</td>\n",
       "      <td>Protective-serv</td>\n",
       "      <td>Husband</td>\n",
       "      <td>White</td>\n",
       "      <td>Male</td>\n",
       "      <td>0</td>\n",
       "      <td>0</td>\n",
       "      <td>40</td>\n",
       "      <td>United-States</td>\n",
       "      <td>&gt;50K</td>\n",
       "    </tr>\n",
       "    <tr>\n",
       "      <th>3</th>\n",
       "      <td>44</td>\n",
       "      <td>Private</td>\n",
       "      <td>160323</td>\n",
       "      <td>Some-college</td>\n",
       "      <td>10</td>\n",
       "      <td>Married-civ-spouse</td>\n",
       "      <td>Machine-op-inspct</td>\n",
       "      <td>Husband</td>\n",
       "      <td>Black</td>\n",
       "      <td>Male</td>\n",
       "      <td>7688</td>\n",
       "      <td>0</td>\n",
       "      <td>40</td>\n",
       "      <td>United-States</td>\n",
       "      <td>&gt;50K</td>\n",
       "    </tr>\n",
       "    <tr>\n",
       "      <th>4</th>\n",
       "      <td>18</td>\n",
       "      <td>NaN</td>\n",
       "      <td>103497</td>\n",
       "      <td>Some-college</td>\n",
       "      <td>10</td>\n",
       "      <td>Never-married</td>\n",
       "      <td>NaN</td>\n",
       "      <td>Own-child</td>\n",
       "      <td>White</td>\n",
       "      <td>Female</td>\n",
       "      <td>0</td>\n",
       "      <td>0</td>\n",
       "      <td>30</td>\n",
       "      <td>United-States</td>\n",
       "      <td>&lt;=50K</td>\n",
       "    </tr>\n",
       "  </tbody>\n",
       "</table>\n",
       "</div>"
      ],
      "text/plain": [
       "   age  workclass  fnlwgt     education  education-num      marital-status  \\\n",
       "0   25    Private  226802          11th              7       Never-married   \n",
       "1   38    Private   89814       HS-grad              9  Married-civ-spouse   \n",
       "2   28  Local-gov  336951    Assoc-acdm             12  Married-civ-spouse   \n",
       "3   44    Private  160323  Some-college             10  Married-civ-spouse   \n",
       "4   18        NaN  103497  Some-college             10       Never-married   \n",
       "\n",
       "          occupation relationship   race     sex  capital-gain  capital-loss  \\\n",
       "0  Machine-op-inspct    Own-child  Black    Male             0             0   \n",
       "1    Farming-fishing      Husband  White    Male             0             0   \n",
       "2    Protective-serv      Husband  White    Male             0             0   \n",
       "3  Machine-op-inspct      Husband  Black    Male          7688             0   \n",
       "4                NaN    Own-child  White  Female             0             0   \n",
       "\n",
       "   hours-per-week native-country  class  \n",
       "0              40  United-States  <=50K  \n",
       "1              50  United-States  <=50K  \n",
       "2              40  United-States   >50K  \n",
       "3              40  United-States   >50K  \n",
       "4              30  United-States  <=50K  "
      ]
     },
     "execution_count": 5,
     "metadata": {},
     "output_type": "execute_result"
    }
   ],
   "source": [
    "# Let's look at the dataframe itself\n",
    "adult_census = adult_census_data.frame\n",
    "# Print the dimensions and the first few rows of the dataframe\n",
    "print(adult_census.shape)\n",
    "adult_census.head()"
   ]
  },
  {
   "cell_type": "markdown",
   "id": "f593f0a0",
   "metadata": {
    "lines_to_next_cell": 0
   },
   "source": [
    "# Focus on the target variable"
   ]
  },
  {
   "cell_type": "code",
   "execution_count": 6,
   "id": "93a6ea9d",
   "metadata": {},
   "outputs": [
    {
     "data": {
      "text/plain": [
       "class\n",
       "<=50K    37155\n",
       ">50K     11687\n",
       "Name: count, dtype: int64"
      ]
     },
     "execution_count": 6,
     "metadata": {},
     "output_type": "execute_result"
    }
   ],
   "source": [
    "# The target is the class variable: 'class'\n",
    "target_name = \"class\"\n",
    "y = adult_census[target_name]\n",
    "adult_census[target_name].value_counts()"
   ]
  },
  {
   "cell_type": "markdown",
   "id": "75af4961",
   "metadata": {
    "lines_to_next_cell": 0
   },
   "source": [
    "```{note}\n",
    "Here, classes are slightly imbalanced, meaning there are more samples of one\n",
    "or more classes compared to others. In this case, we have many more samples\n",
    "with `\" <=50K\"` than with `\" >50K\"`. Class imbalance happens often in practice\n",
    "and may need special techniques when building a predictive model.\n",
    "\n",
    "For example in a medical setting, if we are trying to predict whether subjects\n",
    "may develop a rare disease, there would be a lot more healthy subjects than\n",
    "ill subjects in the dataset.\n",
    "```\n",
    "# Visual inspection of the data\n",
    "\n",
    "## Distinguish numerical and categorical columns\n",
    "The dataset contains both numerical and categorical data. Numerical values take continuous values, for example \"age\". Categorical values can have a finite number of values, for example \"native-country\"."
   ]
  },
  {
   "cell_type": "code",
   "execution_count": 7,
   "id": "244c9e65",
   "metadata": {},
   "outputs": [],
   "source": [
    "numerical_columns = [\n",
    "    \"age\",\n",
    "    \"education-num\",\n",
    "    \"capital-gain\",\n",
    "    \"capital-loss\",\n",
    "    \"hours-per-week\",\n",
    "]\n",
    "categorical_columns = [\n",
    "    \"workclass\",\n",
    "    \"education\",\n",
    "    \"marital-status\",\n",
    "    \"occupation\",\n",
    "    \"relationship\",\n",
    "    \"race\",\n",
    "    \"sex\",\n",
    "    \"native-country\",\n",
    "]\n",
    "all_columns = numerical_columns + categorical_columns + [target_name]\n",
    "adult_census = adult_census[all_columns]"
   ]
  },
  {
   "cell_type": "markdown",
   "id": "71711fc4",
   "metadata": {
    "lines_to_next_cell": 0
   },
   "source": [
    "## Display histograms for numerical columns\n",
    "Let’s look at the distribution of individual features, to get some insights about the data. We can start by plotting histograms, note that this only works for features containing numerical values:"
   ]
  },
  {
   "cell_type": "code",
   "execution_count": 8,
   "id": "eddd3902",
   "metadata": {
    "lines_to_next_cell": 0
   },
   "outputs": [
    {
     "data": {
      "image/png": "[encoded data removed]",
      "text/plain": [
       "<Figure size 2000x1400 with 6 Axes>"
      ]
     },
     "metadata": {},
     "output_type": "display_data"
    }
   ],
   "source": [
    "_ = adult_census.hist(figsize=(20, 14))"
   ]
  },
  {
   "cell_type": "markdown",
   "id": "d1b52071",
   "metadata": {},
   "source": [
    "## Display the unique values of the categorical columns"
   ]
  },
  {
   "cell_type": "code",
   "execution_count": null,
   "id": "9cab9130",
   "metadata": {
    "lines_to_next_cell": 0
   },
   "outputs": [],
   "source": [
    "adult_census[\"sex\"].value_counts()"
   ]
  },
  {
   "cell_type": "code",
   "execution_count": null,
   "id": "4ce5559b",
   "metadata": {
    "lines_to_next_cell": 0,
    "title": "[mardown]"
   },
   "outputs": [],
   "source": [
    "# Quite unbalanced!"
   ]
  },
  {
   "cell_type": "code",
   "execution_count": null,
   "id": "25dfc7e1",
   "metadata": {
    "lines_to_next_cell": 0
   },
   "outputs": [],
   "source": [
    "adult_census[\"education\"].value_counts()"
   ]
  },
  {
   "cell_type": "markdown",
   "id": "ed75abac",
   "metadata": {
    "lines_to_next_cell": 0
   },
   "source": [
    "s noted above, \"education-num\" distribution has two clear peaks around 10 and 13. It would be reasonable to expect that \"education-num\" is the number of years of education.\n",
    "\n",
    "Let’s look at the relationship between \"education\" and \"education-num\"."
   ]
  },
  {
   "cell_type": "code",
   "execution_count": null,
   "id": "3024b8d5",
   "metadata": {
    "lines_to_next_cell": 0
   },
   "outputs": [],
   "source": [
    "pd.crosstab(index=adult_census[\"education\"], columns=adult_census[\"education-num\"])"
   ]
  },
  {
   "cell_type": "markdown",
   "id": "ebbf691c",
   "metadata": {
    "lines_to_next_cell": 0
   },
   "source": [
    "Build the predictive model\n",
    "# Separate the target variable from the data"
   ]
  },
  {
   "cell_type": "code",
   "execution_count": null,
   "id": "def94cf5",
   "metadata": {
    "lines_to_next_cell": 0
   },
   "outputs": [],
   "source": []
  },
  {
   "cell_type": "code",
   "execution_count": null,
   "id": "e735dd94",
   "metadata": {
    "lines_to_next_cell": 0
   },
   "outputs": [],
   "source": [
    "data = adult_census.drop(columns=[target_name])\n",
    "data"
   ]
  },
  {
   "cell_type": "markdown",
   "id": "1e13225a",
   "metadata": {
    "lines_to_next_cell": 0
   },
   "source": [
    "# Select only some numerical columns\n",
    "For simplicity, we will select only the numerical columns in this dataset.\n",
    "data_numeric = data[numerical_columns]\n",
    "data_numeric"
   ]
  },
  {
   "cell_type": "markdown",
   "id": "92d0e515",
   "metadata": {
    "lines_to_next_cell": 0
   },
   "source": [
    "## Separate training and testing data"
   ]
  },
  {
   "cell_type": "code",
   "execution_count": null,
   "id": "fb1ab71d",
   "metadata": {
    "lines_to_next_cell": 0
   },
   "outputs": [],
   "source": [
    "from sklearn.model_selection import train_test_split\n",
    "\n",
    "data_numeric_train, data_numeric_test, y_train, y_test = train_test_split(\n",
    "    data_numeric, y, random_state=42\n",
    ")\n",
    "# ## First model"
   ]
  },
  {
   "cell_type": "code",
   "execution_count": null,
   "id": "bd2fd71c",
   "metadata": {
    "lines_to_next_cell": 0
   },
   "outputs": [],
   "source": [
    "from sklearn.linear_model import LogisticRegression\n",
    "\n",
    "# model declaration\n",
    "model = LogisticRegression()\n",
    "model"
   ]
  },
  {
   "cell_type": "code",
   "execution_count": null,
   "id": "4587fcdf",
   "metadata": {
    "lines_to_next_cell": 0
   },
   "outputs": [],
   "source": [
    "# model fitting/training\n",
    "_ = model.fit(data_numeric_train, y_train)"
   ]
  },
  {
   "cell_type": "markdown",
   "id": "ea0177c3",
   "metadata": {
    "lines_to_next_cell": 0
   },
   "source": [
    "## Remarks on fitting a model\n",
    "\n",
    "# ![Predictor fit diagram](../slides/img/ML_1/api_diagram-predictor.fit.svg)\n",
    " In scikit-learn an object that has a fit method is called an estimator. The method fit is composed of two elements: (i) a learning algorithm and (ii) some model states. The learning algorithm takes the training data and training target as input and sets the model states. These model states are later used to either predict (for classifiers and regressors) or transform data (for transformers)."
   ]
  },
  {
   "cell_type": "code",
   "execution_count": null,
   "id": "0d2f7050",
   "metadata": {
    "lines_to_next_cell": 0
   },
   "outputs": [],
   "source": [
    "# model prediction\n",
    "y_train_predicted = model.predict(data_numeric_train)"
   ]
  },
  {
   "cell_type": "markdown",
   "id": "a1d4e7c7",
   "metadata": {},
   "source": [
    "# ![Predictor predict diagram](../slides/img/ML_1/api_diagram-predictor.predict.svg)"
   ]
  },
  {
   "cell_type": "code",
   "execution_count": null,
   "id": "22b0d23c",
   "metadata": {
    "lines_to_next_cell": 0
   },
   "outputs": [],
   "source": [
    "# model evaluation (by hand):\n",
    "print(\n",
    "    \"Number of correct prediction: \"\n",
    "    f\"{(y_train[:5] == y_train_predicted[:5]).sum()} / 5\"\n",
    ")"
   ]
  },
  {
   "cell_type": "markdown",
   "id": "3fe820a7",
   "metadata": {
    "lines_to_next_cell": 0
   },
   "source": [
    "To get a better assessment, we can compute the average success rate."
   ]
  },
  {
   "cell_type": "code",
   "execution_count": null,
   "id": "34262d3a",
   "metadata": {},
   "outputs": [],
   "source": [
    "(y_train == y_train_predicted).mean()"
   ]
  },
  {
   "cell_type": "markdown",
   "id": "d5230df1",
   "metadata": {
    "lines_to_next_cell": 0
   },
   "source": [
    "## Evaluation of the model"
   ]
  },
  {
   "cell_type": "code",
   "execution_count": null,
   "id": "d7149ca8",
   "metadata": {},
   "outputs": [],
   "source": [
    "accuracy = model.score(data_numeric_test, y_test)\n",
    "model_name = model.__class__.__name__\n",
    "print(f\"The test accuracy using a {model_name} is {accuracy:.3f}\")"
   ]
  },
  {
   "cell_type": "markdown",
   "id": "27f565ef",
   "metadata": {
    "lines_to_next_cell": 0
   },
   "source": [
    "We use the generic term model for objects whose goodness of fit can be measured using the score method. Let’s check the underlying mechanism when calling score:\n",
    "# ![Predictor score diagram](../slides/img/ML_1/api_diagram-predictor.score.svg)"
   ]
  },
  {
   "cell_type": "code",
   "execution_count": null,
   "id": "41e58285",
   "metadata": {},
   "outputs": [],
   "source": []
  }
 ],
 "metadata": {
  "jupytext": {
   "cell_metadata_filter": "title,-all",
   "main_language": "python",
   "notebook_metadata_filter": "-all"
  },
  "kernelspec": {
   "display_name": ".venv",
   "language": "python",
   "name": "python3"
  },
  "language_info": {
   "codemirror_mode": {
    "name": "ipython",
    "version": 3
   },
   "file_extension": ".py",
   "mimetype": "text/x-python",
   "name": "python",
   "nbconvert_exporter": "python",
   "pygments_lexer": "ipython3",
   "version": "3.12.3"
  }
 },
 "nbformat": 4,
 "nbformat_minor": 5
}
