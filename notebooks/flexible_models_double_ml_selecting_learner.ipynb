{
 "cells": [
  {
   "cell_type": "markdown",
   "id": "47df78c3",
   "metadata": {},
   "source": [
    "# Choice of learners for double machine learning\n",
    "\n",
    "This notebooks contains some practical recommendations to choose the right learner and evaluate different learners for the corresponding nuisance components. It is an extension of the [DoubleML package example on learner selection](https://docs.doubleml.org/stable/examples/py_double_ml_learner.html), adding an example with non-linear data. It is a small introduction to\n",
    "Double-Machine Learning that you will cover more in depth in the following course.\n",
    "\n",
    "First, we will work with a simulated linear model for the data generating process and compare different learners for the nuisance components. In the second part, we will work with a non-linear data generating process and compare different learners for the nuisance components.\n",
    "\n",
    "## Linear Partial Linear Regression Model (PML)\n",
    "Let $D$ the treatment, $Y$ the outcome, $X$ the confounders, $\\theta$ the targeted causal effect (here supposed to be constent).\n",
    "\n",
    "A PML is of the form:\n",
    "$Y = \\theta D + g(X)+ \\epsilon$ with  $\\epsilon$ the residual noise, supposed to be mean zero $\\mathbb E[\\epsilon|D, X]=0$.\n",
    "\n",
    "We can solve for $\\theta$ by debiaising both the treatment and the outcome, then solving the debiased the normal equation.\n",
    "1. $\\tilde{D} = D - \\hat{m_0}(X)$ with $\\hat{m_0}$ targeting $E[D|X]$\n",
    "1. $\\tilde{Y} = Y - \\hat{\\ell}(X)$ with $\\hat{\\ell}$ targeting $E[Y|X]$\n",
    "3. Solving the normal equation: $\\mathbb E [(\\tilde{Y} - \\beta \\tilde{D})\\tilde{D}]=0$\n",
    "\n",
    "This procedure is quite general, but the second point is easy with the hypothesis of a PML: In this case, solving the normal equation sums up to find $\\hat{\\beta}$ by solving the OLS of $\\tilde{Y}$ on $\\tilde{D}$.\n",
    "You will see the theoretical aspects of PLM in session 6.\n",
    "\n",
    "### Linear PML\n",
    "For the first example, we will work with a linear PML.\n",
    "The data generation process for this data has the following form:\n",
    "$$d_i = m_0(x_i) + s_1 v_i \\quad with\\; v_i \\sim \\mathcal{N}(0,1)$$\n",
    "$$y_i = \\alpha d_i + g_0(x_i) + s_2 \\zeta_i \\quad with\\; \\zeta_i \\sim \\mathcal{N}(0,1)$$\n",
    "with covariates\n",
    "$x_i \\sim \\mathcal{N}(0, \\Sigma)$, where  $\\Sigma$ is a matrix with entries\n",
    "$\\Sigma_{kj} = 0.7^{|j-k|}$.\n",
    "The nuisance functions are given by:\n",
    "$$m_0(x_i) = a_0 x_{i,1} + a_1 \\frac{\\exp(x_{i,3})}{1+\\exp(x_{i,3})}$$\n",
    "$$g_0(x_i) = b_0 \\frac{\\exp(x_{i,1})}{1+\\exp(x_{i,1})} + b_1 x_{i,3}$$\n",
    "\n",
    "To enforce linearity, we will set to 0 the non linear components: $a_0=0, a_1=1, s_1=0, b_0=0$\n",
    "\n",
    "## Selection for linear PLM\n",
    "To be able to compare the properties of different learners, we will start by setting the true treatment parameter to zero, fix some other parameters of the data generating process and generate several datasets\n",
    "to obtain some information about the distribution of the estimators."
   ]
  },
  {
   "cell_type": "code",
   "execution_count": null,
   "id": "659a7d23",
   "metadata": {
    "lines_to_next_cell": 0
   },
   "outputs": [],
   "source": [
    "# # Installation of doubleml\n",
    "!pip install doubleml"
   ]
  },
  {
   "cell_type": "code",
   "execution_count": null,
   "id": "d9b142f7",
   "metadata": {},
   "outputs": [],
   "source": [
    "import numpy as np\n",
    "import doubleml as dml\n",
    "\n",
    "from doubleml.datasets import make_plr_CCDDHNR2018\n",
    "\n",
    "theta = 0\n",
    "n_obs = 500\n",
    "dim_x = 5\n",
    "n_rep = 50\n",
    "\n",
    "np.random.seed(42)\n",
    "datasets = []\n",
    "for i in range(n_rep):\n",
    "    data = make_plr_CCDDHNR2018(\n",
    "        theta=theta,\n",
    "        n_obs=n_obs,\n",
    "        dim_x=dim_x,\n",
    "        R2_d=0.8,\n",
    "        R2_y=0.8,\n",
    "        a_0=0,\n",
    "        a_1=1,\n",
    "        s_1=0,\n",
    "        b_0=0,\n",
    "        return_type=\"DataFrame\",\n",
    "    )\n",
    "    data[\"d\"] = (data[\"d\"] >= 0.5).astype(int)\n",
    "    datasets.append(dml.DoubleMLData(data, \"y\", \"d\"))"
   ]
  },
  {
   "cell_type": "markdown",
   "id": "4a9b6cb4",
   "metadata": {},
   "source": [
    "For simplicity, we will restrict ourselves to the comparison of two different types and evaluate a learner of linear type and a tree based estimator for each nuisance component (with default hyperparameters)."
   ]
  },
  {
   "cell_type": "code",
   "execution_count": null,
   "id": "c685e462",
   "metadata": {},
   "outputs": [],
   "source": [
    "from sklearn.linear_model import LinearRegression, LogisticRegressionCV, LassoCV\n",
    "from sklearn.ensemble import (\n",
    "    GradientBoostingRegressor,\n",
    "    GradientBoostingClassifier,\n",
    "    HistGradientBoostingClassifier,\n",
    "    HistGradientBoostingRegressor,\n",
    ")\n",
    "from sklearn.base import clone\n",
    "\n",
    "reg_learner_1 = LinearRegression()\n",
    "reg_learner_2 = GradientBoostingRegressor()\n",
    "class_learner_1 = LogisticRegressionCV()\n",
    "class_learner_2 = GradientBoostingClassifier()\n",
    "\n",
    "learner_list = [\n",
    "    {\"ml_l\": reg_learner_1, \"ml_m\": class_learner_1},\n",
    "    {\"ml_l\": reg_learner_2, \"ml_m\": class_learner_1},\n",
    "    {\"ml_l\": reg_learner_1, \"ml_m\": class_learner_2},\n",
    "    {\"ml_l\": reg_learner_2, \"ml_m\": class_learner_2},\n",
    "]"
   ]
  },
  {
   "cell_type": "markdown",
   "id": "6c62d6af",
   "metadata": {},
   "source": [
    "In all combinations, we now can try to evaluate four different PLM models. To make the comparison fair, we will apply all different models to the same cross-fitting samples (usually this should not matter, we only consider this here to get slightly cleaner comparison)."
   ]
  },
  {
   "cell_type": "markdown",
   "id": "92487f0b",
   "metadata": {},
   "source": [
    "Standard approach: At first, we will look at the most straightforward approach using the inbuild nuisance losses. The `nuisance_loss` attribute contains the out-of-sample RMSE or Log Loss for the nuisance functions. We will save all RMSEs and the corresponding treatment estimates for all combinations of learners over all repetitions."
   ]
  },
  {
   "cell_type": "code",
   "execution_count": null,
   "id": "4e527f6d",
   "metadata": {},
   "outputs": [],
   "source": [
    "from doubleml.utils import DoubleMLResampling\n",
    "\n",
    "coefs = np.full(shape=(n_rep, len(learner_list)), fill_value=np.nan)\n",
    "loss_ml_m = np.full(shape=(n_rep, len(learner_list)), fill_value=np.nan)\n",
    "loss_ml_l = np.full(shape=(n_rep, len(learner_list)), fill_value=np.nan)\n",
    "\n",
    "coverage = np.full(shape=(n_rep, len(learner_list)), fill_value=np.nan)\n",
    "\n",
    "for i_rep in range(n_rep):\n",
    "    print(f\"\\rProcessing: {round((i_rep+1)/n_rep*100, 3)} %\", end=\"\")\n",
    "    dml_data = datasets[i_rep]\n",
    "    # define the sample splitting\n",
    "    smpls = DoubleMLResampling(\n",
    "        n_folds=5, n_rep=1, n_obs=n_obs, stratify=dml_data.d\n",
    "    ).split_samples()\n",
    "\n",
    "    for i_learners, learners in enumerate(learner_list):\n",
    "        np.random.seed(42)\n",
    "        dml_plm = dml.DoubleMLPLR(\n",
    "            obj_dml_data=dml_data,\n",
    "            ml_l=clone(learners[\"ml_l\"]),\n",
    "            ml_m=clone(learners[\"ml_m\"]),\n",
    "            draw_sample_splitting=False,\n",
    "        )\n",
    "        dml_plm.set_sample_splitting(smpls)\n",
    "        dml_plm.fit(n_jobs_cv=5)\n",
    "\n",
    "        coefs[i_rep, i_learners] = dml_plm.coef[0]\n",
    "        loss_ml_m[i_rep, i_learners] = dml_plm.nuisance_loss[\"ml_m\"][0][0]\n",
    "        loss_ml_l[i_rep, i_learners] = dml_plm.nuisance_loss[\"ml_l\"][0][0]\n",
    "\n",
    "        confint = dml_plm.confint()\n",
    "        coverage[i_rep, i_learners] = (confint[\"2.5 %\"].iloc[0] <= theta) & (\n",
    "            confint[\"97.5 %\"].iloc[0] >= theta\n",
    "        )\n",
    "\n",
    "print(f\"\\nCoverage: {coverage.mean(0)}\")"
   ]
  },
  {
   "cell_type": "markdown",
   "id": "8f8b8cda",
   "metadata": {},
   "source": [
    "Next, let us take a look at the corresponding results"
   ]
  },
  {
   "cell_type": "code",
   "execution_count": null,
   "id": "2e6c2ff5",
   "metadata": {},
   "outputs": [],
   "source": [
    "import pandas as pd\n",
    "\n",
    "colnames = [\"Linear + Logit\", \"Boost + Logit\", \"Linear + Boost\", \"Boost + Boost\"]\n",
    "\n",
    "df_coefs = pd.DataFrame(coefs, columns=colnames)\n",
    "df_ml_m = pd.DataFrame(loss_ml_m, columns=colnames)\n",
    "df_ml_l = pd.DataFrame(loss_ml_l, columns=colnames)"
   ]
  },
  {
   "cell_type": "code",
   "execution_count": null,
   "id": "2f757ad1",
   "metadata": {
    "lines_to_next_cell": 0
   },
   "outputs": [],
   "source": [
    "import seaborn as sns\n",
    "import matplotlib.pyplot as plt\n",
    "\n",
    "fig, axes = plt.subplots(2, 2, figsize=(15, 5))\n",
    "fig.suptitle(\"Learner Comparison\")\n",
    "\n",
    "sns.kdeplot(data=df_coefs, ax=axes[0][0], fill=True, alpha=0.3)\n",
    "sns.kdeplot(data=df_ml_m, ax=axes[0][1], fill=True, alpha=0.3, legend=False)\n",
    "sns.kdeplot(data=df_ml_l, ax=axes[1][0], fill=True, alpha=0.3, legend=False)\n",
    "\n",
    "axes[0][0].title.set_text(\"Estimated Parameter\")\n",
    "# axes[0][0].set_xlim(-10, 10)\n",
    "axes[0][1].title.set_text(\"Log Loss ml_m\")\n",
    "axes[1][0].title.set_text(\"RMSE ml_l\")\n",
    "\n",
    "plt.subplots_adjust(left=0.1, bottom=0.1, right=0.9, top=0.9, wspace=0.4, hspace=0.4)\n",
    "plt.show()"
   ]
  },
  {
   "cell_type": "code",
   "execution_count": null,
   "id": "80dddf39",
   "metadata": {
    "lines_to_next_cell": 0,
    "title": "[]"
   },
   "outputs": [],
   "source": []
  },
  {
   "cell_type": "markdown",
   "id": "5f732c50",
   "metadata": {
    "lines_to_next_cell": 0
   },
   "source": [
    "### 📝 TODO Can you explain wy some of the coefficients are way greater than others? For which combination of the nuisance learners is it the case?"
   ]
  },
  {
   "cell_type": "markdown",
   "id": "e3d6d922",
   "metadata": {
    "lines_to_next_cell": 0
   },
   "source": [
    "We can now easily observe that in this setting, the linear learners are able to approximate the corresponding nuisance functions better than the boosting algorithm (as should be expected since the data is generated accordingly).\n",
    "\n",
    "Let us take a look at what would have happend if for each repetition, we would have selected the combination of learners with the smallest out-of-sample loss (in our example this corresponds to minimizing the product of losses)."
   ]
  },
  {
   "cell_type": "code",
   "execution_count": null,
   "id": "fb3478bb",
   "metadata": {},
   "outputs": [],
   "source": [
    "selected_learners = (loss_ml_m * (loss_ml_l)).argmin(axis=1)\n",
    "np.unique(selected_learners, return_counts=True)"
   ]
  },
  {
   "cell_type": "markdown",
   "id": "2dd66caf",
   "metadata": {},
   "source": [
    "Let us compare which learners, how the estimated coefficients would have performed with the selected learners."
   ]
  },
  {
   "cell_type": "code",
   "execution_count": null,
   "id": "f011e2fe",
   "metadata": {},
   "outputs": [],
   "source": [
    "print(\n",
    "    f\"Coverage of selected learners: {np.mean(np.array([coverage[i_rep, selected_learners[i_rep]] for i_rep in range(n_rep)]))}\"\n",
    ")\n",
    "\n",
    "selected_coefs = np.array(\n",
    "    [coefs[i_rep, selected_learners[i_rep]] for i_rep in range(n_rep)]\n",
    ")\n",
    "df_coefs[\"Selected\"] = selected_coefs\n",
    "sns.kdeplot(data=df_coefs, fill=True, alpha=0.3)\n",
    "plt.show()"
   ]
  },
  {
   "cell_type": "markdown",
   "id": "3e76498c",
   "metadata": {
    "lines_to_next_cell": 0
   },
   "source": [
    "This procedure will be generally valid as long as we do not compare a excessively large number of different learners.\n",
    "### Non-linear PLM\n",
    "### 📝 TODO Repeat this procedure for a non-linear data generation process."
   ]
  },
  {
   "cell_type": "code",
   "execution_count": null,
   "id": "ef7dd26c",
   "metadata": {
    "lines_to_next_cell": 0
   },
   "outputs": [],
   "source": [
    "theta = 0\n",
    "n_obs = 500\n",
    "dim_x = 5\n",
    "n_rep = 50\n",
    "\n",
    "np.random.seed(42)\n",
    "datasets = []\n",
    "for i in range(n_rep):\n",
    "    data = make_plr_CCDDHNR2018(\n",
    "        theta=theta,\n",
    "        n_obs=n_obs,\n",
    "        dim_x=dim_x,\n",
    "        R2_d=0.8,\n",
    "        R2_y=0.8,\n",
    "        a_0=0,\n",
    "        a_1=1,\n",
    "        s_1=0,\n",
    "        b_0=0,\n",
    "        return_type=\"DataFrame\",\n",
    "    )\n",
    "    data[\"d\"] = (data[\"d\"] >= 0.5).astype(int)\n",
    "    datasets.append(dml.DoubleMLData(data, \"y\", \"d\"))"
   ]
  },
  {
   "cell_type": "code",
   "execution_count": null,
   "id": "53301b8e",
   "metadata": {},
   "outputs": [],
   "source": [
    "# CODE HERE"
   ]
  }
 ],
 "metadata": {
  "kernelspec": {
   "display_name": "doubleml",
   "language": "python",
   "name": "python3"
  }
 },
 "nbformat": 4,
 "nbformat_minor": 5
}
