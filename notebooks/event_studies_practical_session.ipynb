{
 "cells": [
  {
   "cell_type": "markdown",
   "id": "86c56b4c",
   "metadata": {
    "lines_to_next_cell": 0
   },
   "source": [
    "# Plan of the practical session:\n",
    " - Application of the synthetic control using the `pysyncon` package and using a handmade basic SCM model. \n",
    "\n",
    "# Data\n",
    "We extend the original CITS analyses by [Humphreys et al. (2017)](https://jamanetwork.com/journals/jamainternalmedicine/fullarticle/2582988) using synthetic control methods (15 comparison states in the donor pool).\n",
    "The code is inspired by the analyses in the original papers from [Degli Esposti et al., 2020](https://academic.oup.com/ije/article/49/6/2010/5917161#supplementary-data). It uses the data from (Bonander et al., 2021)[https://academic.oup.com/aje/article-abstract/190/12/2700/6336907]."
   ]
  },
  {
   "cell_type": "code",
   "execution_count": null,
   "id": "de41c63b",
   "metadata": {
    "lines_to_next_cell": 0
   },
   "outputs": [],
   "source": [
    "import numpy as np\n",
    "import pandas as pd\n",
    "import matplotlib.pyplot as plt\n",
    "import seaborn as sns\n",
    "from datetime import datetime\n",
    "\n",
    "pd.set_option(\"display.max_columns\", None)"
   ]
  },
  {
   "cell_type": "markdown",
   "id": "52ca6dd0",
   "metadata": {
    "lines_to_next_cell": 0
   },
   "source": [
    "# Synthetic control method\n",
    "First we set some constants."
   ]
  },
  {
   "cell_type": "code",
   "execution_count": null,
   "id": "0732646a",
   "metadata": {
    "lines_to_next_cell": 0
   },
   "outputs": [],
   "source": [
    "URL2DATA = \"https://raw.githubusercontent.com/strayMat/causal-ml-course/refs/heads/main/data/homicides_data.csv\"\n",
    "\n",
    "TREATED_COLOR = plt.get_cmap(\"tab10\")(0)  # Default matplotlib blue\n",
    "CONTROL_COLOR = plt.get_cmap(\"tab10\")(1)  # Default matplotlib orange\n",
    "\n",
    "COL_TREATMENT = \"treatdummy\"\n",
    "COL_TREATED_UNIT = \"Case\"\n",
    "TREATMENT_DATE = datetime(2005, 10, 1)\n",
    "COL_TARGET = \"HomicideRates\"\n",
    "RANDOM_SEED = 93572"
   ]
  },
  {
   "cell_type": "markdown",
   "id": "30a30afc",
   "metadata": {
    "lines_to_next_cell": 0
   },
   "source": [
    "Load the data and add a column with the Date format from the year and month columns homicides."
   ]
  },
  {
   "cell_type": "code",
   "execution_count": null,
   "id": "bfdad18d",
   "metadata": {
    "lines_to_next_cell": 0
   },
   "outputs": [],
   "source": [
    "homicides = pd.read_csv(URL2DATA, index_col=0)\n",
    "homicides[\"Month.string\"] = homicides[\"Month.code\"].apply(lambda x: f\"{x:02d}\")\n",
    "homicides[\"Date\"] = pd.to_datetime(\n",
    "    homicides[\"Year\"].astype(str) + \"-\" + homicides[\"Month.string\"], format=\"%Y-%m\"\n",
    ")"
   ]
  },
  {
   "cell_type": "code",
   "execution_count": null,
   "id": "97b7adfc",
   "metadata": {},
   "outputs": [],
   "source": [
    "# plotting utils\n",
    "def plot_observed_data(\n",
    "    data: pd.DataFrame,\n",
    "    target_column: str = COL_TARGET,\n",
    "    target_unit_name: str = \"Florida\",\n",
    "    plot_all_controls: bool = False,\n",
    "):\n",
    "    \"\"\"\n",
    "    Plotting the data by treatment status.\n",
    "\n",
    "    Args:\n",
    "        data (pd.DataFrame): Observed data to plot\n",
    "        plot_all_controls (bool): Whether to plot all control units or just the mean and sd for all control units.\n",
    "    \"\"\"\n",
    "\n",
    "    fig, ax = plt.subplots(1, 1, figsize=(16, 8))\n",
    "\n",
    "    # plot treated unit\n",
    "    data_treated = data[data[\"State\"] == target_unit_name]\n",
    "    sns.lineplot(\n",
    "        data=data_treated,\n",
    "        x=\"Date\",\n",
    "        y=target_column,\n",
    "        ax=ax,\n",
    "        color=TREATED_COLOR,\n",
    "        # marker=\"o\",\n",
    "        label=target_unit_name,\n",
    "    )\n",
    "    data_controls = data[data[\"State\"] != target_unit_name]\n",
    "    color_palette = {s: CONTROL_COLOR for s in data_controls[\"State\"].unique()}\n",
    "    if plot_all_controls:\n",
    "        sns.lineplot(\n",
    "            ax=ax,\n",
    "            data=data_controls,\n",
    "            x=\"Date\",\n",
    "            y=target_column,\n",
    "            hue=\"State\",\n",
    "            palette=color_palette,\n",
    "            alpha=0.7,\n",
    "            # marker=\"o\",\n",
    "            linestyle=\"--\",\n",
    "        )\n",
    "    # plot mean and sd for controls\n",
    "    else:\n",
    "        mean_controls = data_controls.groupby(\"Date\")[COL_TARGET].mean()\n",
    "        sd_controls = data_controls.groupby(\"Date\")[COL_TARGET].std()\n",
    "        ax.fill_between(\n",
    "            mean_controls.index,\n",
    "            mean_controls - sd_controls,\n",
    "            mean_controls + sd_controls,\n",
    "            color=CONTROL_COLOR,\n",
    "            alpha=0.3,\n",
    "        )\n",
    "        ax.plot(mean_controls, color=CONTROL_COLOR, label=\"Control States\")\n",
    "    plt.legend(\n",
    "        handles=[\n",
    "            plt.Line2D([0], [0], color=TREATED_COLOR, lw=2, label=target_unit_name),\n",
    "            plt.Line2D([0], [0], color=CONTROL_COLOR, lw=2, label=\"Control States\"),\n",
    "        ]\n",
    "    )\n",
    "    # plot treatment date\n",
    "    ax.axvline(TREATMENT_DATE, color=\"black\", linestyle=\"--\")\n",
    "    return fig, ax\n",
    "\n",
    "\n",
    "def plot_data_with_prediction(data: pd.DataFrame, y_pred, lower_ci=None, upper_ci=None):\n",
    "    \"\"\"\n",
    "    Plotting a prediction with confidence intervals on top of the observed data.\n",
    "\n",
    "    Args:\n",
    "        data (pd.DataFrame): Observed data\n",
    "        y_pred (_type_): Mean of the predicted values\n",
    "        lower_ci (_type_): Lower bound of the confidence interval for the predicted values\n",
    "        upper_ci (_type_): Upper bound of the confidence interval for the predicted values\n",
    "\n",
    "    Returns:\n",
    "        _type_: _description_\n",
    "    \"\"\"\n",
    "    fig, ax = plot_observed_data(data)\n",
    "\n",
    "    dates_to_predict = np.sort(data[\"Date\"].unique())\n",
    "    ax.plot(\n",
    "        dates_to_predict,\n",
    "        y_pred,\n",
    "        color=\"black\",\n",
    "        linestyle=\"-.\",\n",
    "        label=\"Predicted Florida\",\n",
    "    )\n",
    "    if lower_ci is not None and upper_ci is not None:\n",
    "        ax.fill_between(\n",
    "            dates_to_predict,\n",
    "            lower_ci,\n",
    "            upper_ci,\n",
    "            color=\"black\",\n",
    "            alpha=0.3,\n",
    "        )\n",
    "    return fig, ax"
   ]
  },
  {
   "cell_type": "markdown",
   "id": "d3b6e5fb",
   "metadata": {
    "lines_to_next_cell": 0
   },
   "source": [
    "## Visualize data \n",
    "\n",
    "### 📝 TODO Plot the follwoing subset of control states (use the util function defined above)."
   ]
  },
  {
   "cell_type": "code",
   "execution_count": null,
   "id": "fa02dc0b",
   "metadata": {},
   "outputs": [],
   "source": [
    "# CODE HERE\n",
    "mask_subset_states =\n",
    "homicides_subset = homicides[mask_subset_states]"
   ]
  },
  {
   "cell_type": "markdown",
   "id": "1b818a4b",
   "metadata": {
    "lines_to_next_cell": 0
   },
   "source": [
    "### 📝 TODO Does the data seems consistent with the convex-hull assumption?\n",
    "Find a subsest for which the convex-hull assumption do not seems to hold.\n",
    "ANSWER HERE\n",
    "\n",
    "### 📝 TODO plot the data that you have chosen with only the mean and standard deviation of the control units."
   ]
  },
  {
   "cell_type": "code",
   "execution_count": null,
   "id": "602ab640",
   "metadata": {},
   "outputs": [],
   "source": [
    "# CODE HERE\n",
    "homicides_subset = "
   ]
  },
  {
   "cell_type": "markdown",
   "id": "9400fccd",
   "metadata": {
    "lines_to_next_cell": 0
   },
   "source": [
    "## Synthetic control by hand \n",
    "The following code cell gives a simple implementation of the synthetic control method using a convex optimization library to solve the SCM objective (without the inner optimization problem on the covariates).\n",
    "We will first do the data preparation work for the synthetic control method and pass it to this handmade version of SCM."
   ]
  },
  {
   "cell_type": "code",
   "execution_count": null,
   "id": "294f90de",
   "metadata": {
    "lines_to_next_cell": 0
   },
   "outputs": [],
   "source": [
    "!pip install cvxpy"
   ]
  },
  {
   "cell_type": "code",
   "execution_count": null,
   "id": "8fa1c6c1",
   "metadata": {
    "lines_to_next_cell": 1
   },
   "outputs": [],
   "source": [
    "from sklearn.base import BaseEstimator, RegressorMixin\n",
    "from sklearn.utils.validation import check_X_y, check_array, check_is_fitted\n",
    "import cvxpy as cp\n",
    "class SyntheticControl(BaseEstimator, RegressorMixin):\n",
    "    \"\"\"\n",
    "    Synthetic Control Method (without the inner optimization problem).\n",
    "    \"\"\"\n",
    "    def __init__(\n",
    "        self,\n",
    "    ):\n",
    "        pass\n",
    "\n",
    "    def fit(self, X, y):\n",
    "        X, y = check_X_y(X, y)\n",
    "\n",
    "        w = cp.Variable(X.shape[1])\n",
    "        objective = cp.Minimize(cp.sum_squares(X @ w - y))\n",
    "\n",
    "        constraints = [cp.sum(w) == 1, w >= 0]\n",
    "\n",
    "        problem = cp.Problem(objective, constraints)\n",
    "        problem.solve(verbose=False)\n",
    "\n",
    "        self.X_ = X\n",
    "        self.y_ = y\n",
    "        self.w_ = w.value\n",
    "\n",
    "        self.is_fitted_ = True\n",
    "        return self\n",
    "\n",
    "    def predict(self, X):\n",
    "        check_is_fitted(self)\n",
    "        X = check_array(X)\n",
    "\n",
    "        return X @ self.w_"
   ]
  },
  {
   "cell_type": "markdown",
   "id": "55ecf150",
   "metadata": {},
   "source": [
    "### 📝 TODO Prepare the data for the synthetic control method. "
   ]
  },
  {
   "cell_type": "code",
   "execution_count": null,
   "id": "b7b2605e",
   "metadata": {
    "lines_to_next_cell": 0
   },
   "outputs": [],
   "source": [
    "# CODE HERE\n",
    "mask_treated = \n",
    "mask_pre_treatment = \n",
    "\n",
    "control_units = \n",
    "treated_unit = \n",
    "Y_control = \n",
    "Y_treated = \n",
    "\n",
    "Y_pretreatment_control = \n",
    "\n",
    "Y_pretreatment_treated = \n",
    "\n",
    "temporal_covariates = [COL_TARGET]  # , \"Unemployment_adj\"]\n",
    "static_covariates = [\n",
    "    \"Burglary.rate\",\n",
    "    \"Population\",\n",
    "    \"Personal.income.per.capita..dollars.\",\n",
    "    \"Paid.Hunting.License.Holders\",\n",
    "]\n",
    "\n",
    "pretreatment_controls = \n",
    "pretreatment_treated = \n",
    "\n",
    "control_covariates_list = []\n",
    "treated_covariates_list = []\n",
    "for cov in temporal_covariates:\n",
    "    control_covariates_list.append(\n",
    "        pretreatment_controls.pivot(index=\"Date\", columns=\"State\", values=cov)\n",
    "    )\n",
    "\n",
    "    treated_covariates_list.append(\n",
    "        pretreatment_treated.pivot(\n",
    "            index=\"Date\", columns=\"State\", values=temporal_covariates\n",
    "        ).iloc[:, 0]\n",
    "    )\n",
    "control_static_covariates_list = []\n",
    "treated_static_covariates_list = []\n",
    "for cov in static_covariates:\n",
    "    control_static_covariates_list.append(\n",
    "        control_units.pivot(index=\"Date\", columns=\"State\", values=cov).iloc[0, :].T\n",
    "    )\n",
    "    treated_static_covariates_list.append(\n",
    "        treated_unit.pivot(index=\"Date\", columns=\"State\", values=cov).iloc[0, :]\n",
    "    )\n",
    "control_static_covariates = pd.concat(control_static_covariates_list, axis=1).T\n",
    "treated_static_covariates = pd.concat(treated_static_covariates_list, axis=0)\n",
    "control_covariates = pd.concat(\n",
    "    (pd.concat(control_covariates_list, axis=0), control_static_covariates), axis=0\n",
    ")\n",
    "treated_covariates = pd.concat(\n",
    "    (pd.concat(treated_covariates_list, axis=0), treated_static_covariates), axis=0\n",
    ")\n",
    "# instantiate the model \n",
    "my_synth = SyntheticControl()\n",
    "# fit thre model\n",
    "my_synth.\n",
    "# predict\n",
    "y_pred = \n",
    "# plot the data\n",
    "fig, ax = plot_observed_data(homicides_subset, plot_all_controls=False)\n",
    "ax.plot(np.sort(homicides_subset[\"Date\"].unique()), y_pred, color=\"black\", linestyle=\"-.\")"
   ]
  },
  {
   "cell_type": "markdown",
   "id": "2ddbcfd6",
   "metadata": {
    "lines_to_next_cell": 0
   },
   "source": [
    "## Use a SCM package to do all the heavy preparation work\n",
    "### 📝 TODO: Prepare the data for the synthetic control method using the `pysyncon` package. Go to the [documentation](https://pysyncon.readthedocs.io/en/latest/) to see how to use the package.\n",
    "- First, use only `HomicideRates` as the target variable."
   ]
  },
  {
   "cell_type": "code",
   "execution_count": null,
   "id": "bc251a8f",
   "metadata": {
    "lines_to_next_cell": 0
   },
   "outputs": [],
   "source": [
    "!pip install pysyncon"
   ]
  },
  {
   "cell_type": "code",
   "execution_count": null,
   "id": "1dccb461",
   "metadata": {
    "lines_to_next_cell": 0
   },
   "outputs": [],
   "source": [
    "from pysyncon import Synth, Dataprep\n",
    "\n",
    "control_state_names = [state_name for state_name in homicides_subset[\"State\"].unique() if state_name != \"Florida\"]\n",
    "time_range = np.sort(homicides_subset[\"Date\"].unique())\n",
    "time_range_prior = time_range[time_range < pd.to_datetime(TREATMENT_DATE)]"
   ]
  },
  {
   "cell_type": "code",
   "execution_count": null,
   "id": "c12588f2",
   "metadata": {},
   "outputs": [],
   "source": [
    "# CODE HERE"
   ]
  },
  {
   "cell_type": "markdown",
   "id": "2c2718b7",
   "metadata": {
    "lines_to_next_cell": 0
   },
   "source": [
    "### TODO 📝Fit the model"
   ]
  },
  {
   "cell_type": "code",
   "execution_count": null,
   "id": "ac59692b",
   "metadata": {
    "lines_to_next_cell": 0
   },
   "outputs": [],
   "source": [
    "# CODE HERE\n",
    "synth = Synth()\n",
    "synth.fit(\n",
    "    # CODE HERE\n",
    ")\n",
    "y_pred = Y_control @ synth.W.T"
   ]
  },
  {
   "cell_type": "markdown",
   "id": "124e3510",
   "metadata": {
    "lines_to_next_cell": 0
   },
   "source": [
    "Let's visualize the results of the synthetic control method."
   ]
  },
  {
   "cell_type": "code",
   "execution_count": null,
   "id": "5a4e6352",
   "metadata": {
    "lines_to_next_cell": 0
   },
   "outputs": [],
   "source": [
    "print(\"Weights of the synthetic control predictor (w vector for the inner optimization loop):\\n\")\n",
    "print(synth.weights())\n",
    "print(\"Summary of the predictor importances (V diagonal matrix for the outer optimization loop):\\n\")\n",
    "print(synth.summary())\n",
    "scores = pd.DataFrame({\"mae\": [synth.mae()], \"mape\": [synth.mape()], \"mse\": [synth.mspe()]})\n",
    "print(f\"Pre-treatment fit scores:\\n {scores}\")"
   ]
  },
  {
   "cell_type": "markdown",
   "id": "4c9fea5f",
   "metadata": {
    "lines_to_next_cell": 0
   },
   "source": [
    "### TODO 📝 Plot the results of the synthetic control method using the `plot_observed_data` function. "
   ]
  },
  {
   "cell_type": "code",
   "execution_count": null,
   "id": "9f789f36",
   "metadata": {},
   "outputs": [],
   "source": [
    "# CODE HERE"
   ]
  },
  {
   "cell_type": "markdown",
   "id": "e3920d3a",
   "metadata": {
    "lines_to_next_cell": 0
   },
   "source": [
    "The `pysyncon` package also provides a method to visualize the results."
   ]
  },
  {
   "cell_type": "code",
   "execution_count": null,
   "id": "77eae814",
   "metadata": {
    "lines_to_next_cell": 0
   },
   "outputs": [],
   "source": [
    "# ### 📝 TODO Use the `pysyncon` package to visualize the same results with the path_plot function. "
   ]
  },
  {
   "cell_type": "code",
   "execution_count": null,
   "id": "ca974338",
   "metadata": {
    "lines_to_next_cell": 2
   },
   "outputs": [],
   "source": [
    "# CODE HERE\n",
    "fig, ax = plt.subplots(1, 1, figsize=(16, 8))"
   ]
  },
  {
   "cell_type": "code",
   "execution_count": null,
   "id": "42986a20",
   "metadata": {
    "lines_to_next_cell": 0
   },
   "outputs": [],
   "source": [
    "# Another plot in the package, focusing on the effect between the treated and synthetic control units.\n",
    "time_range_postorior = time_range[time_range >= pd.to_datetime(TREATMENT_DATE)]\n",
    "synth.gaps_plot(time_period=time_range_postorior, treatment_time=TREATMENT_DATE)"
   ]
  },
  {
   "cell_type": "markdown",
   "id": "8b63d7d6",
   "metadata": {
    "lines_to_next_cell": 0
   },
   "source": [
    "## Include some predictors in the model.\n",
    "Until now, we did not make use of the predictors in the dataset, so the outer optimization loop (with the V diagonal matrix) was not used. We will now include some predictors in the model.\n",
    "\n",
    "### 📝 TODO Re-run the data preparation, fit, result summary and plot steps but with more predictors in the model (choose predictors that you find appopriate in the homicide dataset columns)."
   ]
  },
  {
   "cell_type": "code",
   "execution_count": null,
   "id": "0df3715d",
   "metadata": {
    "lines_to_next_cell": 0
   },
   "outputs": [],
   "source": [
    "# dataprep_train\n",
    "dataprep_train = Dataprep(\n",
    "    #CODE HERE\n",
    ")"
   ]
  },
  {
   "cell_type": "markdown",
   "id": "eb97799d",
   "metadata": {
    "lines_to_next_cell": 0
   },
   "source": [
    "### TODO 📝Fit the model"
   ]
  },
  {
   "cell_type": "code",
   "execution_count": null,
   "id": "976fd7ee",
   "metadata": {
    "lines_to_next_cell": 0
   },
   "outputs": [],
   "source": [
    "\n",
    "synth = Synth()\n",
    "synth.fit(\n",
    "    # CODE HERE\n",
    ")\n",
    "y_pred = Y_control @ synth.W.T"
   ]
  },
  {
   "cell_type": "markdown",
   "id": "da1f1341",
   "metadata": {
    "lines_to_next_cell": 0
   },
   "source": [
    "Let's visualize the results of the synthetic control method."
   ]
  },
  {
   "cell_type": "code",
   "execution_count": null,
   "id": "057c3a39",
   "metadata": {
    "lines_to_next_cell": 0
   },
   "outputs": [],
   "source": [
    "print(\"Weights of the synthetic control predictor (w vector for the inner optimization loop):\\n\")\n",
    "print(synth.weights())\n",
    "print(\"Summary of the predictor importances (V diagonal matrix for the outer optimization loop):\\n\")\n",
    "print(synth.summary())\n",
    "scores = pd.DataFrame({\"mae\": [synth.mae()], \"mape\": [synth.mape()], \"mse\": [synth.mspe()]})\n",
    "print(f\"Pre-treatment fit scores:\\n {scores}\")"
   ]
  },
  {
   "cell_type": "markdown",
   "id": "91af145c",
   "metadata": {
    "lines_to_next_cell": 0
   },
   "source": [
    "### TODO 📝 Plot the results of the synthetic control method using the `plot_observed_data` function. "
   ]
  },
  {
   "cell_type": "code",
   "execution_count": null,
   "id": "b6b0ab01",
   "metadata": {
    "lines_to_next_cell": 0
   },
   "outputs": [],
   "source": [
    "# CODE HERE"
   ]
  },
  {
   "cell_type": "markdown",
   "id": "d832b3ff",
   "metadata": {
    "lines_to_next_cell": 0
   },
   "source": [
    "## 📝 TODO What model do you find more convincing between both (without or with predictors)? Why ? \n",
    "ANSWER HERE"
   ]
  },
  {
   "cell_type": "markdown",
   "id": "0b91a388",
   "metadata": {
    "lines_to_next_cell": 0
   },
   "source": [
    "## Placebo tests \n",
    "We can run placebo tests to assess the validity of the synthetic control method. This can be easily done with the `pysyncon` package. \n",
    "### 📝 TODO Run a placebo test with the `pysyncon` package."
   ]
  },
  {
   "cell_type": "code",
   "execution_count": null,
   "id": "f0803b88",
   "metadata": {
    "lines_to_next_cell": 0
   },
   "outputs": [],
   "source": [
    "from pysyncon.utils import PlaceboTest\n",
    "\n",
    "# CODE HERE "
   ]
  },
  {
   "cell_type": "markdown",
   "id": "f8f72f3f",
   "metadata": {
    "lines_to_next_cell": 0
   },
   "source": [
    "We can plot the gaps for each placebo unit. We chose to exclude the placebo units that have a pre-treatment mean squared prediction error above a certain threshold (here 5).\n",
    "For this unit, the model is not able to predict the pre-treatment period well, so the post treatment gap is not reliable.\n",
    "plt.figure(figsize=(16, 8))\n",
    "placebo_test.gaps_plot(time_period=time_range, treatment_time=TREATMENT_DATE, mspe_threshold=5)"
   ]
  },
  {
   "cell_type": "markdown",
   "id": "c8102a8f",
   "metadata": {
    "lines_to_next_cell": 0
   },
   "source": [
    "### 📝 TODO Draw the histogram of the mean squared Average treatment effect post-treatment. "
   ]
  },
  {
   "cell_type": "code",
   "execution_count": null,
   "id": "d0ddc672",
   "metadata": {
    "lines_to_next_cell": 0
   },
   "outputs": [],
   "source": [
    "control_post_treatment_gaps = placebo_test.gaps[placebo_test.gaps.index >= TREATMENT_DATE]\n",
    "control_post_treatment_att_mean_squared = control_post_treatment_gaps.mean(axis=0)\n",
    "\n",
    "treated_post_treatment_att_mean_squared = pd.Series(placebo_test.treated_gap[placebo_test.treated_gap.index >= TREATMENT_DATE].mean(axis=0), index=[\"Florida\"])\n",
    "\n",
    "all_post_treatment_att_mean_squared = pd.concat([control_post_treatment_att_mean_squared, treated_post_treatment_att_mean_squared], axis=0).sort_values()\n",
    "\n",
    "fix, ax = plt.subplots(1, 1, figsize=(8, 6))\n",
    "# CODE HERE\n",
    "ax.set_ylabel(\"Frequency\")\n",
    "ax.set_xlabel(\"Mean squared Average treatment effect post-treatment\")\n",
    "plt.legend(loc=\"upper left\")"
   ]
  },
  {
   "cell_type": "markdown",
   "id": "14248d95",
   "metadata": {
    "lines_to_next_cell": 0
   },
   "source": [
    "## 📝 TODO Draw the histogram of the mean squared Average treatment effect post-treatment but this time by excluding control units having a pre-treatment mean squared prediction error greater than 5 times the one of the treated unit. "
   ]
  },
  {
   "cell_type": "code",
   "execution_count": null,
   "id": "4847f434",
   "metadata": {
    "lines_to_next_cell": 0
   },
   "outputs": [],
   "source": [
    "# CODE HERE\n",
    "control_pre_treatment_att_mean_squared = placebo_test.gaps[placebo_test.gaps.index < TREATMENT_DATE].mean(axis=0)\n",
    "\n",
    "treated_mspe_pre_treatment = placebo_test.treated_gap[placebo_test.treated_gap.index < TREATMENT_DATE].mean(axis=0)\n",
    "\n",
    "mspe_threshold = \n",
    "excluded_units = \n",
    "print(f\"Excluded units: {excluded_units}\")\n",
    "\n",
    "fix, ax = plt.subplots(1, 1, figsize=(8, 6))\n",
    "# CODE HERE\n",
    "ax.set_ylabel(\"Frequency\")\n",
    "ax.set_xlabel(\"Mean squared Average treatment effect post-treatment\")\n",
    "\n",
    "plt.legend(loc=\"upper left\")"
   ]
  },
  {
   "cell_type": "markdown",
   "id": "b6cd94cd",
   "metadata": {},
   "source": []
  }
 ],
 "metadata": {
  "kernelspec": {
   "display_name": ".venv",
   "language": "python",
   "name": "python3"
  }
 },
 "nbformat": 4,
 "nbformat_minor": 5
}
