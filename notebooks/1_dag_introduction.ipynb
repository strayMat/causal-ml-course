{
 "cells": [
  {
   "cell_type": "code",
   "execution_count": null,
   "id": "a583f39e",
   "metadata": {
    "lines_to_next_cell": 0
   },
   "outputs": [],
   "source": [
    "import networkx as nx\n",
    "from pgmpy.base.DAG import DAG\n",
    "import matplotlib.pyplot as plt\n",
    "import pandas as pd"
   ]
  },
  {
   "cell_type": "markdown",
   "id": "bc322e71",
   "metadata": {
    "lines_to_next_cell": 0
   },
   "source": [
    "# Graph Generation and Plotting\n",
    "\n",
    "The following DAG is due to Judea Pearl."
   ]
  },
  {
   "cell_type": "code",
   "execution_count": null,
   "id": "6f78b579",
   "metadata": {
    "lines_to_next_cell": 0
   },
   "outputs": [],
   "source": [
    "digraph = nx.DiGraph(\n",
    "    [\n",
    "        (\"Z1\", \"X1\"),\n",
    "        (\"X1\", \"D\"),\n",
    "        (\"Z1\", \"X2\"),\n",
    "        (\"Z2\", \"X3\"),\n",
    "        (\"X3\", \"Y\"),\n",
    "        (\"Z2\", \"X2\"),\n",
    "        (\"X2\", \"Y\"),\n",
    "        (\"X2\", \"D\"),\n",
    "        (\"M\", \"Y\"),\n",
    "        (\"D\", \"M\"),\n",
    "    ]\n",
    ")"
   ]
  },
  {
   "cell_type": "code",
   "execution_count": null,
   "id": "3f4238af",
   "metadata": {
    "lines_to_next_cell": 0
   },
   "outputs": [],
   "source": [
    "G = DAG(digraph)"
   ]
  },
  {
   "cell_type": "code",
   "execution_count": null,
   "id": "617a8181",
   "metadata": {
    "lines_to_next_cell": 0
   },
   "outputs": [],
   "source": [
    "nx.draw_planar(G, with_labels=True)\n",
    "plt.show()"
   ]
  },
  {
   "cell_type": "code",
   "execution_count": null,
   "id": "4d8fb47b",
   "metadata": {
    "lines_to_next_cell": 0
   },
   "outputs": [],
   "source": [
    "print(list(G.predecessors(\"X2\")))\n",
    "print(list(G.successors(\"X2\")))\n",
    "print(list(nx.ancestors(G, \"X2\")))\n",
    "print(list(nx.descendants(G, \"X2\")))"
   ]
  },
  {
   "cell_type": "code",
   "execution_count": null,
   "id": "f8b52841",
   "metadata": {},
   "outputs": [],
   "source": [
    "# Find Paths Between D and Y\n",
    "list(nx.all_simple_paths(G.to_undirected(), \"D\", \"Y\"))"
   ]
  },
  {
   "cell_type": "code",
   "execution_count": null,
   "id": "1133bca0",
   "metadata": {
    "lines_to_next_cell": 0
   },
   "outputs": [],
   "source": [
    "# these returns all conditional independencies even among two sets of variables\n",
    "# conditional on a third set\n",
    "dseps = G.get_independencies()\n",
    "# we display only the ones that correpond to pairs of singletons\n",
    "for dsep in dseps.get_assertions():\n",
    "    if len(dsep.get_assertion()[1]) == 1:\n",
    "        print(dsep)"
   ]
  },
  {
   "cell_type": "markdown",
   "id": "69783b74",
   "metadata": {},
   "source": [
    "# Simulation study"
   ]
  },
  {
   "cell_type": "markdown",
   "id": "5a8eb224",
   "metadata": {
    "lines_to_next_cell": 0
   },
   "source": [
    "# Drawing a DAG for the wage dataset\n",
    "We consider the same subsample of the U.S. Current Population Survey (2015). Let us load the data set."
   ]
  },
  {
   "cell_type": "code",
   "execution_count": null,
   "id": "cc5627b6",
   "metadata": {},
   "outputs": [],
   "source": [
    "file = (\n",
    "    \"https://raw.githubusercontent.com/CausalAIBook/\"\n",
    "    \"MetricsMLNotebooks/main/data/wage2015_subsample_inference.csv\"\n",
    ")\n",
    "df = pd.read_csv(file)"
   ]
  }
 ],
 "metadata": {
  "jupytext": {
   "cell_metadata_filter": "-all",
   "main_language": "python",
   "notebook_metadata_filter": "-all"
  }
 },
 "nbformat": 4,
 "nbformat_minor": 5
}
