{
 "cells": [
  {
   "cell_type": "code",
   "execution_count": null,
   "id": "bd1bc726",
   "metadata": {
    "lines_to_next_cell": 0
   },
   "outputs": [],
   "source": [
    "# We need to install two specific packages to handles graphs:\n",
    "!pip install networkx\n",
    "!pip install pgmpy"
   ]
  },
  {
   "cell_type": "code",
   "execution_count": null,
   "id": "c1d34ea3",
   "metadata": {
    "lines_to_next_cell": 0
   },
   "outputs": [],
   "source": [
    "\n",
    "import networkx as nx\n",
    "from pgmpy.base.DAG import DAG\n",
    "import matplotlib.pyplot as plt\n",
    "import pandas as pd"
   ]
  },
  {
   "cell_type": "markdown",
   "id": "df8382d6",
   "metadata": {
    "lines_to_next_cell": 0
   },
   "source": [
    "\n",
    "In this practical session, we will cover the following topics:\n",
    "- Graph Generation and Plotting\n",
    "- Simulation studies for common causal fallacies\n",
    "  - Fork paths\n",
    "  - Collider bias\n",
    "\n",
    "# Graph Generation and Plotting\n",
    "\n",
    "The following DAG is due to Judea Pearl.\n",
    "We will use it to illustrate how to generate a graph and plot it.\n",
    "We will also show how to compute the ancestors and descendants of a node."
   ]
  },
  {
   "cell_type": "code",
   "execution_count": null,
   "id": "d3f40336",
   "metadata": {
    "lines_to_next_cell": 0
   },
   "outputs": [],
   "source": [
    "digraph = nx.DiGraph(\n",
    "    [\n",
    "        (\"Z1\", \"X1\"),\n",
    "        (\"X1\", \"D\"),\n",
    "        (\"Z1\", \"X2\"),\n",
    "        (\"Z2\", \"X3\"),\n",
    "        (\"X3\", \"Y\"),\n",
    "        (\"Z2\", \"X2\"),\n",
    "        (\"X2\", \"Y\"),\n",
    "        (\"X2\", \"D\"),\n",
    "        (\"M\", \"Y\"),\n",
    "        (\"D\", \"M\"),\n",
    "    ]\n",
    ")"
   ]
  },
  {
   "cell_type": "code",
   "execution_count": null,
   "id": "48f5369c",
   "metadata": {
    "lines_to_next_cell": 0
   },
   "outputs": [],
   "source": [
    "G = DAG(digraph)"
   ]
  },
  {
   "cell_type": "code",
   "execution_count": null,
   "id": "02e61ea5",
   "metadata": {
    "lines_to_next_cell": 0
   },
   "outputs": [],
   "source": [
    "nx.draw_planar(G, with_labels=True)\n",
    "plt.show()"
   ]
  },
  {
   "cell_type": "code",
   "execution_count": null,
   "id": "088ec75e",
   "metadata": {
    "lines_to_next_cell": 0
   },
   "outputs": [],
   "source": [
    "print(list(G.predecessors(\"X2\")))\n",
    "print(list(G.successors(\"X2\")))\n",
    "print(list(nx.ancestors(G, \"X2\")))\n",
    "print(list(nx.descendants(G, \"X2\")))"
   ]
  },
  {
   "cell_type": "code",
   "execution_count": null,
   "id": "f73fdf8e",
   "metadata": {},
   "outputs": [],
   "source": [
    "# Find Paths Between D and Y\n",
    "list(nx.all_simple_paths(G.to_undirected(), \"D\", \"Y\"))"
   ]
  },
  {
   "cell_type": "code",
   "execution_count": null,
   "id": "79649547",
   "metadata": {
    "lines_to_next_cell": 0
   },
   "outputs": [],
   "source": [
    "# These returns all conditional independencies even among two sets of variables\n",
    "# conditional on a third set\n",
    "dseps = G.get_independencies()\n",
    "# we display only the ones that correpond to pairs of singletons\n",
    "for dsep in dseps.get_assertions():\n",
    "    if len(dsep.get_assertion()[1]) == 1:\n",
    "        print(dsep)"
   ]
  },
  {
   "cell_type": "markdown",
   "id": "e78bb592",
   "metadata": {
    "lines_to_next_cell": 0
   },
   "source": [
    "# Simulation studies\n",
    "\n",
    "## A fork of icecream under the sun\n",
    "\n",
    "[Credits to Prof. Reza Arghandeh](https://github.com/Ci2Lab/Applied_Causal_Inference_Course/blob/main/lectures/CH-3-Graphical-Causal-Models.ipynb)\n",
    "\n",
    "In hot summer months, people tend to consume more ice cream and are also more\n",
    "likely to get sunburns. While it might seem that Ice Cream Consumption (I) and\n",
    " Number of Sunburns (S) are related, this relationship is actually driven by a\n",
    "third variable, Hot Temperature (H).\n",
    "\n",
    "### Causal graph for icecream and sunburns\n",
    "\n",
    "- TODO: Draw the causal graph corresponding to the causal relationships\n",
    "between these variables."
   ]
  },
  {
   "cell_type": "code",
   "execution_count": null,
   "id": "61943069",
   "metadata": {
    "lines_to_next_cell": 0
   },
   "outputs": [],
   "source": [
    "# CODE HERE"
   ]
  },
  {
   "cell_type": "markdown",
   "id": "d3ab9ee5",
   "metadata": {
    "lines_to_next_cell": 0
   },
   "source": [
    "### Simulate the data for icecream and sunburns\n",
    "Let's generate synthetic data for the three variables:"
   ]
  },
  {
   "cell_type": "code",
   "execution_count": null,
   "id": "aafcc11b",
   "metadata": {
    "lines_to_next_cell": 0
   },
   "outputs": [],
   "source": [
    "import numpy as np\n",
    "import pandas as pd\n",
    "import matplotlib.pyplot as plt\n",
    "import seaborn as sns\n",
    "\n",
    "# Set seed for reproducibility\n",
    "np.random.seed(42)\n",
    "\n",
    "# Simulating Hot Temperature (T)\n",
    "hot_temperature = np.random.normal(\n",
    "    loc=30, scale=5, size=100\n",
    ")  # Average temperature of 30 degrees with some variation\n",
    "\n",
    "# Simulating Ice Cream Consumption (I) based on Temperature (T)\n",
    "ice_cream_consumption = 2 * hot_temperature + np.random.normal(\n",
    "    loc=0, scale=5, size=100\n",
    ")  # Higher temperature, more ice cream\n",
    "\n",
    "# Simulating Number of Sunburns (S) based on Temperature (T)\n",
    "number_of_sunburns = 1.5 * hot_temperature + np.random.normal(\n",
    "    loc=0, scale=3, size=100\n",
    ")  # Higher temperature, more sunburns\n",
    "\n",
    "# Creating a DataFrame for the data\n",
    "data = pd.DataFrame(\n",
    "    {\n",
    "        \"hot_temperature\": hot_temperature,\n",
    "        \"ice_cream_consumption\": ice_cream_consumption,\n",
    "        \"number_sunburns\": number_of_sunburns,\n",
    "    }\n",
    ")\n",
    "\n",
    "# Display the first few rows of the dataset\n",
    "data.head()"
   ]
  },
  {
   "cell_type": "markdown",
   "id": "04df3b14",
   "metadata": {
    "lines_to_next_cell": 0
   },
   "source": [
    "### Visualize the relationships between icecream and sunburns\n",
    "We now use a scatter plot matrix to visualize the pairwise relationships\n",
    "between Hot Temperature, Ice Cream Consumption, and Number of Sunburns.\n",
    "- TODO: Visualize the scatter plot matrix for the data. You can use the\n",
    "pairplot function from seaborn."
   ]
  },
  {
   "cell_type": "code",
   "execution_count": null,
   "id": "24f4664f",
   "metadata": {
    "lines_to_next_cell": 0
   },
   "outputs": [],
   "source": [
    "# CODE HERE"
   ]
  },
  {
   "cell_type": "markdown",
   "id": "8424c292",
   "metadata": {
    "lines_to_next_cell": 0
   },
   "source": [
    "### Regression analysis for icecream and sunburns\n",
    "First let's begin by a naive regression analysis between Ice Cream Consumption\n",
    " and Number of Sunburns."
   ]
  },
  {
   "cell_type": "code",
   "execution_count": null,
   "id": "43de3ab3",
   "metadata": {
    "lines_to_next_cell": 0
   },
   "outputs": [],
   "source": [
    "import statsmodels.formula.api as smf\n",
    "\n",
    "# Resizualized with Hot Temperature\n",
    "naive_fit = smf.ols(\"number_sunburns ~ ice_cream_consumption\", data).fit()\n",
    "print(naive_fit.summary())"
   ]
  },
  {
   "cell_type": "markdown",
   "id": "db3fa3f8",
   "metadata": {
    "lines_to_next_cell": 0
   },
   "source": [
    "We see that the coefficient for ice_cream_consumption is positive and\n",
    "statistically significant. This might lead us to believe that ice cream\n",
    "consumption causes sunburns. However, this is not the case. The relationship\n",
    " between ice cream consumption and sunburns is confounded by hot temperature.\n",
    " Let's see what happens when we control for hot temperature.\n",
    "\n",
    "### Resizualized with Hot Temperature\n",
    "- TODO: Perform a regression analysis for both the ice cream and the number of\n",
    " sun burns to *regress away* the effect of the hot_temperature.\n",
    "Regression for ice_cream_consumption"
   ]
  },
  {
   "cell_type": "code",
   "execution_count": null,
   "id": "8380e6a0",
   "metadata": {
    "lines_to_next_cell": 0
   },
   "outputs": [],
   "source": [
    "# CODE HERE"
   ]
  },
  {
   "cell_type": "markdown",
   "id": "ec261388",
   "metadata": {
    "lines_to_next_cell": 0
   },
   "source": [
    "Lets's vizualize the debiased data."
   ]
  },
  {
   "cell_type": "code",
   "execution_count": null,
   "id": "7d734554",
   "metadata": {
    "lines_to_next_cell": 0
   },
   "outputs": [],
   "source": [
    "residuals_data = pd.DataFrame(\n",
    "    {\n",
    "        \"ice_cream_residuals\": ice_cream_debiased,\n",
    "        \"sunburns_residuals\": sunburns_debiased,\n",
    "    }\n",
    ")"
   ]
  },
  {
   "cell_type": "markdown",
   "id": "067c5108",
   "metadata": {
    "lines_to_next_cell": 0
   },
   "source": [
    "## Visualize the residuals (relationship after conditioning)"
   ]
  },
  {
   "cell_type": "code",
   "execution_count": null,
   "id": "c5a18008",
   "metadata": {
    "lines_to_next_cell": 0
   },
   "outputs": [],
   "source": [
    "# CODE HERE"
   ]
  },
  {
   "cell_type": "markdown",
   "id": "16dae004",
   "metadata": {
    "lines_to_next_cell": 0
   },
   "source": [
    "## Debiased regression"
   ]
  },
  {
   "cell_type": "code",
   "execution_count": null,
   "id": "923edb7e",
   "metadata": {
    "lines_to_next_cell": 0
   },
   "outputs": [],
   "source": [
    "print(\n",
    "    smf.ols(\"sunburns_residuals ~ ice_cream_residuals\", residuals_data).fit().summary()\n",
    ")"
   ]
  },
  {
   "cell_type": "markdown",
   "id": "01d1555f",
   "metadata": {
    "lines_to_next_cell": 0
   },
   "source": [
    "TODO: What do you observe in the debiased regression analysis? WHat value do the coefficient of ice_cream_residuals take? What does it suggest for the relationship between ice cream consumption and number of sunburns?"
   ]
  },
  {
   "cell_type": "markdown",
   "id": "37a3e36a",
   "metadata": {
    "lines_to_next_cell": 0
   },
   "source": [
    "# Collider bias for celebrities at Hollywood\n",
    "\n",
    "Here is a simple example to illustate the collider or M-bias.\n",
    "Credits to [Chernozhulov et al., 2024, Causal ML book](https://www.causalml-book.org/).\n",
    "\n",
    "The idea is that people who get to Hollywood tend to have a high\n",
    "congenility = talent + beauty. Funnily enough this induces a negative\n",
    "correlation between talents and looks, when we condition on the set of actors\n",
    "or celebrities.\n",
    "\n",
    "This simple example explains an anecdotal observation that \"talent and beauty\n",
    "are negatively correlated\" for celebrities.\n",
    "This is a form of collider bias, also coined as selection bias for this specific case.\n",
    "\n",
    "### Causal graph for celebrities at Hollywood\n",
    "\n",
    "- TODO: Draw the graph the graph corresponding to the causal relationships between these variables."
   ]
  },
  {
   "cell_type": "code",
   "execution_count": null,
   "id": "b56c98eb",
   "metadata": {
    "lines_to_next_cell": 0
   },
   "outputs": [],
   "source": [
    "# CODE HERE"
   ]
  },
  {
   "cell_type": "markdown",
   "id": "5721d079",
   "metadata": {
    "lines_to_next_cell": 0
   },
   "source": [
    "### Simulate the data for celebrities at Hollywood"
   ]
  },
  {
   "cell_type": "code",
   "execution_count": null,
   "id": "2c27506c",
   "metadata": {
    "lines_to_next_cell": 0
   },
   "outputs": [],
   "source": [
    "np.random.seed(123)\n",
    "num_samples = 10000\n",
    "talent = np.random.normal(size=num_samples)\n",
    "beauty = np.random.normal(size=num_samples)\n",
    "congeniality = talent + beauty + np.random.normal(size=num_samples)  # congeniality\n",
    "hollywood_data = pd.DataFrame(\n",
    "    {\n",
    "        \"talent\": talent,\n",
    "        \"beauty\": beauty,\n",
    "        \"congeniality\": congeniality,\n",
    "    }\n",
    ")\n",
    "# Create the conditional variable: celebrity is True if congeniality > 2\n",
    "hollywood_data[\"celebrity\"] = hollywood_data[\"congeniality\"] > 2"
   ]
  },
  {
   "cell_type": "markdown",
   "id": "b8aeb8f2",
   "metadata": {
    "lines_to_next_cell": 0
   },
   "source": [
    "### Visualize the relationships for celebrities at Hollywood\n",
    "- TODO: Visualize the pairplot :\n",
    " - for the whole data.\n",
    " - only for the celebrities."
   ]
  },
  {
   "cell_type": "code",
   "execution_count": null,
   "id": "b90eadac",
   "metadata": {
    "lines_to_next_cell": 0
   },
   "outputs": [],
   "source": [
    "# CODE HERE"
   ]
  },
  {
   "cell_type": "markdown",
   "id": "f87e5ed5",
   "metadata": {
    "lines_to_next_cell": 0
   },
   "source": [
    "We see that for the whole data, there is no correlation between talent and\n",
    "beauty. However, when we condition on the set of celebrities, we see a\n",
    "negative correlation between talent and beauty. This is an example of collider\n",
    "bias.\n",
    "\n",
    "### Regression analysis for celebrities at Hollywood\n",
    "Recover what we have seen in the pairplot, that is, the negative correlation\n",
    "between talent and beauty for celebrities.\n",
    "- TODO: Perform regression analysis to show the collider bias. You should\n",
    "contrast a regression analysis for the whole data and for the celebrities only."
   ]
  },
  {
   "cell_type": "code",
   "execution_count": null,
   "id": "366f6124",
   "metadata": {},
   "outputs": [],
   "source": [
    "# CODE HERE"
   ]
  }
 ],
 "metadata": {
  "jupytext": {
   "cell_metadata_filter": "-all",
   "main_language": "python",
   "notebook_metadata_filter": "-all"
  }
 },
 "nbformat": 4,
 "nbformat_minor": 5
}
