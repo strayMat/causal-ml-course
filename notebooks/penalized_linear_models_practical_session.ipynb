{
 "cells": [
  {
   "cell_type": "markdown",
   "id": "92035d1a",
   "metadata": {
    "lines_to_next_cell": 0
   },
   "source": [
    "\n",
    "======================================================================\n",
    "Common pitfalls in the interpretation of coefficients of linear models\n",
    "======================================================================\n",
    "\n",
    "In linear models, the target value is modeled as a linear combination of the\n",
    "features (see the :ref:`linear_model` User Guide section for a description of a\n",
    "set of linear models available in scikit-learn). Coefficients in multiple linear\n",
    "models represent the relationship between the given feature, :math:`X_i` and the\n",
    "target, :math:`y`, assuming that all the other features remain constant\n",
    "(`conditional dependence\n",
    "<https://en.wikipedia.org/wiki/Conditional_dependence>`_). This is different\n",
    "from plotting :math:`X_i` versus :math:`y` and fitting a linear relationship: in\n",
    "that case all possible values of the other features are taken into account in\n",
    "the estimation (marginal dependence).\n",
    "\n",
    "This example will provide some hints in interpreting coefficient in linear\n",
    "models, pointing at problems that arise when either the linear model is not\n",
    "appropriate to describe the dataset, or when features are correlated.\n",
    "\n",
    ".. note::\n",
    "\n",
    "    Keep in mind that the features :math:`X` and the outcome :math:`y` are in\n",
    "    general the result of a data generating process that is unknown to us.\n",
    "    Machine learning models are trained to approximate the unobserved\n",
    "    mathematical function that links :math:`X` to :math:`y` from sample data. As\n",
    "    a result, any interpretation made about a model may not necessarily\n",
    "    generalize to the true data generating process. This is especially true when\n",
    "    the model is of bad quality or when the sample data is not representative of\n",
    "    the population.\n",
    "\n",
    "We will use data from the `\"Current Population Survey\"\n",
    "<https://www.openml.org/d/534>`_ from 1985 to predict wage as a function of\n",
    "various features such as experience, age, or education.\n",
    "\n",
    "Authors: The scikit-learn developers\n",
    "SPDX-License-Identifier: BSD-3-Clause"
   ]
  },
  {
   "cell_type": "code",
   "execution_count": null,
   "id": "0568436c",
   "metadata": {},
   "outputs": [],
   "source": [
    "import matplotlib.pyplot as plt\n",
    "import numpy as np\n",
    "import pandas as pd\n",
    "import scipy as sp\n",
    "import seaborn as sns"
   ]
  },
  {
   "cell_type": "markdown",
   "id": "cb3062a0",
   "metadata": {
    "lines_to_next_cell": 0
   },
   "source": [
    "The dataset: wages\n",
    "------------------\n",
    "\n",
    "We fetch the data from `OpenML <http://openml.org/>`_.\n",
    "Note that setting the parameter `as_frame` to True will retrieve the data\n",
    "as a pandas dataframe."
   ]
  },
  {
   "cell_type": "code",
   "execution_count": null,
   "id": "953714b8",
   "metadata": {},
   "outputs": [],
   "source": [
    "from sklearn.datasets import fetch_openml\n",
    "\n",
    "survey = fetch_openml(data_id=534, as_frame=True)"
   ]
  },
  {
   "cell_type": "markdown",
   "id": "52c864ed",
   "metadata": {
    "lines_to_next_cell": 0
   },
   "source": [
    "Then, we identify features `X` and targets `y`: the column WAGE is our\n",
    "target variable (i.e., the variable which we want to predict)."
   ]
  },
  {
   "cell_type": "code",
   "execution_count": null,
   "id": "2061f355",
   "metadata": {},
   "outputs": [],
   "source": [
    "X = survey.data[survey.feature_names]\n",
    "X.describe(include=\"all\")"
   ]
  },
  {
   "cell_type": "markdown",
   "id": "a79c530a",
   "metadata": {
    "lines_to_next_cell": 0
   },
   "source": [
    "Note that the dataset contains categorical and numerical variables.\n",
    "We will need to take this into account when preprocessing the dataset\n",
    "thereafter."
   ]
  },
  {
   "cell_type": "code",
   "execution_count": null,
   "id": "bc38a196",
   "metadata": {},
   "outputs": [],
   "source": [
    "X.head()"
   ]
  },
  {
   "cell_type": "markdown",
   "id": "b32f2ab7",
   "metadata": {},
   "source": [
    "Our target for prediction: the wage.\n",
    "Wages are described as floating-point number in dollars per hour."
   ]
  },
  {
   "cell_type": "code",
   "execution_count": null,
   "id": "568218f6",
   "metadata": {},
   "outputs": [],
   "source": [
    "y = survey.target.values.ravel()\n",
    "survey.target.head()"
   ]
  },
  {
   "cell_type": "markdown",
   "id": "150b2a52",
   "metadata": {
    "lines_to_next_cell": 0
   },
   "source": [
    "We split the sample into a train and a test dataset.\n",
    "Only the train dataset will be used in the following exploratory analysis.\n",
    "This is a way to emulate a real situation where predictions are performed on\n",
    "an unknown target, and we don't want our analysis and decisions to be biased\n",
    "by our knowledge of the test data.\n",
    "\n",
    "### 📝 TODO make the train test split"
   ]
  },
  {
   "cell_type": "code",
   "execution_count": null,
   "id": "8275f2d7",
   "metadata": {
    "lines_to_next_cell": 0
   },
   "outputs": [],
   "source": [
    "# CODE HERE"
   ]
  },
  {
   "cell_type": "markdown",
   "id": "9631e596",
   "metadata": {},
   "source": [
    "First, let's get some insights by looking at the variable distributions and\n",
    "at the pairwise relationships between them. Only numerical\n",
    "variables will be used. In the following plot, each dot represents a sample.\n",
    "\n",
    ".. _marginal_dependencies:\n",
    "\n",
    "train_dataset = X_train.copy()\n",
    "train_dataset.insert(0, \"WAGE\", y_train)\n",
    "_ = sns.pairplot(train_dataset, kind=\"reg\", diag_kind=\"kde\")"
   ]
  },
  {
   "cell_type": "markdown",
   "id": "b74c0185",
   "metadata": {
    "lines_to_next_cell": 0
   },
   "source": [
    "Looking closely at the WAGE distribution reveals that it has a\n",
    "long tail. For this reason, we should take its logarithm\n",
    "to turn it approximately into a normal distribution (linear models such\n",
    "as ridge or lasso work best for a normal distribution of error).\n",
    "\n",
    "The WAGE is increasing when EDUCATION is increasing.\n",
    "Note that the dependence between WAGE and EDUCATION\n",
    "represented here is a marginal dependence, i.e., it describes the behavior\n",
    "of a specific variable without keeping the others fixed.\n",
    "\n",
    "Also, the EXPERIENCE and AGE are strongly linearly correlated.\n",
    "\n",
    ".. _the-pipeline:\n",
    "\n",
    "The machine-learning pipeline\n",
    "-----------------------------\n",
    "\n",
    "To design our machine-learning pipeline, we first manually\n",
    "check the type of data that we are dealing with:"
   ]
  },
  {
   "cell_type": "code",
   "execution_count": null,
   "id": "81154eac",
   "metadata": {},
   "outputs": [],
   "source": [
    "survey.data.info()"
   ]
  },
  {
   "cell_type": "markdown",
   "id": "cc2b6b2d",
   "metadata": {
    "lines_to_next_cell": 0
   },
   "source": [
    "As seen previously, the dataset contains columns with different data types\n",
    "and we need to apply a specific preprocessing for each data types.\n",
    "In particular categorical variables cannot be included in linear model if not\n",
    "coded as integers first. In addition, to avoid categorical features to be\n",
    "treated as ordered values, we need to one-hot-encode them.\n",
    "Our pre-processor will\n",
    "\n",
    "- one-hot encode (i.e., generate a column by category) the categorical\n",
    "  columns, only for non-binary categorical variables;\n",
    "- as a first approach (we will see after how the normalisation of numerical\n",
    "  values will affect our discussion), keep numerical values as they are.\n",
    "\n",
    "### 📝 TODO : create a preprocessor that handle the categorical columns with a OneHotEncoder and does nothing with the numerical ones"
   ]
  },
  {
   "cell_type": "code",
   "execution_count": null,
   "id": "a967a4d3",
   "metadata": {
    "lines_to_next_cell": 0
   },
   "outputs": [],
   "source": [
    "from sklearn.compose import make_column_transformer\n",
    "from sklearn.preprocessing import OneHotEncoder \n",
    "# CODE HERE"
   ]
  },
  {
   "cell_type": "markdown",
   "id": "edc4d8bd",
   "metadata": {
    "lines_to_next_cell": 0
   },
   "source": [
    "To describe the dataset as a linear model we use a ridge regressor\n",
    "with a very small regularization and to model the logarithm of the WAGE.\n",
    "### 📝 TODO: make a pipeline with the preprocessor, and a ridge regressor encapusled in a TransformedTargetRegressor with a log10 transformation."
   ]
  },
  {
   "cell_type": "code",
   "execution_count": null,
   "id": "d13a23ff",
   "metadata": {
    "lines_to_next_cell": 0
   },
   "outputs": [],
   "source": [
    "from sklearn.compose import TransformedTargetRegressor\n",
    "from sklearn.linear_model import Ridge\n",
    "from sklearn.pipeline import make_pipeline\n",
    "# CODE HERE"
   ]
  },
  {
   "cell_type": "markdown",
   "id": "1388ed63",
   "metadata": {
    "lines_to_next_cell": 0
   },
   "source": [
    "Processing the dataset\n",
    "----------------------\n",
    "\n",
    "First, we fit the model."
   ]
  },
  {
   "cell_type": "code",
   "execution_count": null,
   "id": "b2968caa",
   "metadata": {},
   "outputs": [],
   "source": [
    "# CODE HERE\n",
    "# ### 📝 TODO: fit the model"
   ]
  },
  {
   "cell_type": "markdown",
   "id": "3ffe2ee4",
   "metadata": {
    "lines_to_next_cell": 0
   },
   "source": [
    "Then we check the performance of the computed model plotting its predictions\n",
    "on the test set and computing,\n",
    "for example, the median absolute error of the model."
   ]
  },
  {
   "cell_type": "code",
   "execution_count": null,
   "id": "a3038d54",
   "metadata": {},
   "outputs": [],
   "source": [
    "from sklearn.metrics import PredictionErrorDisplay, median_absolute_error\n",
    "\n",
    "mae_train = median_absolute_error(y_train, model.predict(X_train))\n",
    "y_pred = model.predict(X_test)\n",
    "mae_test = median_absolute_error(y_test, y_pred)\n",
    "scores = {\n",
    "    \"MedAE on training set\": f\"{mae_train:.2f} $/hour\",\n",
    "    \"MedAE on testing set\": f\"{mae_test:.2f} $/hour\",\n",
    "}"
   ]
  },
  {
   "cell_type": "code",
   "execution_count": null,
   "id": "8a4c0906",
   "metadata": {},
   "outputs": [],
   "source": [
    "_, ax = plt.subplots(figsize=(5, 5))\n",
    "display = PredictionErrorDisplay.from_predictions(\n",
    "    y_test, y_pred, kind=\"actual_vs_predicted\", ax=ax, scatter_kwargs={\"alpha\": 0.5}\n",
    ")\n",
    "ax.set_title(\"Ridge model, small regularization\")\n",
    "for name, score in scores.items():\n",
    "    ax.plot([], [], \" \", label=f\"{name}: {score}\")\n",
    "ax.legend(loc=\"upper left\")\n",
    "plt.tight_layout()"
   ]
  },
  {
   "cell_type": "markdown",
   "id": "7a1efc03",
   "metadata": {
    "lines_to_next_cell": 0
   },
   "source": [
    "The model learnt is far from being a good model making accurate predictions:\n",
    "this is obvious when looking at the plot above, where good predictions\n",
    "should lie on the black dashed line.\n",
    "\n",
    "In the following section, we will interpret the coefficients of the model.\n",
    "While we do so, we should keep in mind that any conclusion we draw is\n",
    "about the model that we build, rather than about the true (real-world)\n",
    "generative process of the data.\n",
    "\n",
    "Interpreting coefficients: scale matters\n",
    "----------------------------------------\n",
    "\n",
    "First of all, we can take a look to the values of the coefficients of the\n",
    "regressor we have fitted.\n",
    "### 📝 TODO: use the `.get_feature_names_out()` to inspect the coefs"
   ]
  },
  {
   "cell_type": "code",
   "execution_count": null,
   "id": "61669a61",
   "metadata": {
    "lines_to_next_cell": 0
   },
   "outputs": [],
   "source": [
    "# CODE HERE\n",
    "print(coefs)"
   ]
  },
  {
   "cell_type": "markdown",
   "id": "4a93fd43",
   "metadata": {
    "lines_to_next_cell": 0
   },
   "source": [
    "The AGE coefficient is expressed in \"dollars/hour per living years\" while the\n",
    "EDUCATION one is expressed in \"dollars/hour per years of education\". This\n",
    "representation of the coefficients has the benefit of making clear the\n",
    "practical predictions of the model: an increase of :math:`1` year in AGE\n",
    "means a decrease of :math:`0.030867` dollars/hour, while an increase of\n",
    ":math:`1` year in EDUCATION means an increase of :math:`0.054699`\n",
    "dollars/hour. On the other hand, categorical variables (as UNION or SEX) are\n",
    "adimensional numbers taking either the value 0 or 1. Their coefficients\n",
    "are expressed in dollars/hour. Then, we cannot compare the magnitude of\n",
    "different coefficients since the features have different natural scales, and\n",
    "hence value ranges, because of their different unit of measure. This is more\n",
    "visible if we plot the coefficients."
   ]
  },
  {
   "cell_type": "code",
   "execution_count": null,
   "id": "d86ddd87",
   "metadata": {},
   "outputs": [],
   "source": [
    "coefs.plot.barh(figsize=(9, 7))\n",
    "plt.title(\"Ridge model, small regularization\")\n",
    "plt.axvline(x=0, color=\".5\")\n",
    "plt.xlabel(\"Raw coefficient values\")\n",
    "plt.subplots_adjust(left=0.3)"
   ]
  },
  {
   "cell_type": "markdown",
   "id": "bd24be5e",
   "metadata": {},
   "source": [
    "Indeed, from the plot above the most important factor in determining WAGE\n",
    "appears to be the\n",
    "variable UNION, even if our intuition might tell us that variables\n",
    "like EXPERIENCE should have more impact.\n",
    "\n",
    "Looking at the coefficient plot to gauge feature importance can be\n",
    "misleading as some of them vary on a small scale, while others, like AGE,\n",
    "varies a lot more, several decades.\n",
    "\n",
    "This is visible if we compare the standard deviations of different\n",
    "features.\n",
    "%%%\n",
    "X_train_preprocessed = pd.DataFrame(\n",
    "    model[:-1].transform(X_train), columns=feature_names\n",
    ")\n",
    "## 📝 TODO: plot the standard deviations of the features\n",
    "X_train_preprocessed.std(axis=0).plot.barh(figsize=(9, 7))\n",
    "plt.title(\"Feature ranges\")\n",
    "plt.xlabel(\"Std. dev. of feature values\")\n",
    "plt.subplots_adjust(left=0.3)"
   ]
  },
  {
   "cell_type": "markdown",
   "id": "043e3282",
   "metadata": {
    "lines_to_next_cell": 0
   },
   "source": [
    "Multiplying the coefficients by the standard deviation of the related\n",
    "feature would reduce all the coefficients to the same unit of measure.\n",
    "As we will see :ref:`after<scaling_num>` this is equivalent to normalize\n",
    "numerical variables to their standard deviation,\n",
    "as :math:`y = \\sum{coef_i \\times X_i} =\n",
    "\\sum{(coef_i \\times std_i) \\times (X_i / std_i)}`.\n",
    "\n",
    "In that way, we emphasize that the\n",
    "greater the variance of a feature, the larger the weight of the corresponding\n",
    "coefficient on the output, all else being equal."
   ]
  },
  {
   "cell_type": "code",
   "execution_count": null,
   "id": "9b325f64",
   "metadata": {},
   "outputs": [],
   "source": [
    "coefs = pd.DataFrame(\n",
    "    model[-1].regressor_.coef_ * X_train_preprocessed.std(axis=0),\n",
    "    columns=[\"Coefficient importance\"],\n",
    "    index=feature_names,\n",
    ")\n",
    "coefs.plot(kind=\"barh\", figsize=(9, 7))\n",
    "plt.xlabel(\"Coefficient values corrected by the feature's std. dev.\")\n",
    "plt.title(\"Ridge model, small regularization\")\n",
    "plt.axvline(x=0, color=\".5\")\n",
    "plt.subplots_adjust(left=0.3)"
   ]
  },
  {
   "cell_type": "markdown",
   "id": "cb6e8adc",
   "metadata": {
    "lines_to_next_cell": 0
   },
   "source": [
    "Now that the coefficients have been scaled, we can safely compare them.\n",
    "\n",
    ".. warning::\n",
    "\n",
    "  Why does the plot above suggest that an increase in age leads to a\n",
    "  decrease in wage? Why the :ref:`initial pairplot\n",
    "  <marginal_dependencies>` is telling the opposite?\n",
    "\n",
    "The plot above tells us about dependencies between a specific feature and\n",
    "the target when all other features remain constant, i.e., **conditional\n",
    "dependencies**. An increase of the AGE will induce a decrease\n",
    "of the WAGE when all other features remain constant. On the contrary, an\n",
    "increase of the EXPERIENCE will induce an increase of the WAGE when all\n",
    "other features remain constant.\n",
    "Also, AGE, EXPERIENCE and EDUCATION are the three variables that most\n",
    "influence the model.\n",
    "\n",
    "Interpreting coefficients: being cautious about causality\n",
    "---------------------------------------------------------\n",
    "\n",
    "Linear models are a great tool for measuring statistical association, but we\n",
    "should be cautious when making statements about causality, after all\n",
    "correlation doesn't always imply causation. This is particularly difficult in\n",
    "the social sciences because the variables we observe only function as proxies\n",
    "for the underlying causal process.\n",
    "\n",
    "In our particular case we can think of the EDUCATION of an individual as a\n",
    "proxy for their professional aptitude, the real variable we're interested in\n",
    "but can't observe. We'd certainly like to think that staying in school for\n",
    "longer would increase technical competency, but it's also quite possible that\n",
    "causality goes the other way too. That is, those who are technically\n",
    "competent tend to stay in school for longer.\n",
    "\n",
    "An employer is unlikely to care which case it is (or if it's a mix of both),\n",
    "as long as they remain convinced that a person with more EDUCATION is better\n",
    "suited for the job, they will be happy to pay out a higher WAGE.\n",
    "\n",
    "This confounding of effects becomes problematic when thinking about some\n",
    "form of intervention e.g. government subsidies of university degrees or\n",
    "promotional material encouraging individuals to take up higher education.\n",
    "The usefulness of these measures could end up being overstated, especially if\n",
    "the degree of confounding is strong. Our model predicts a :math:`0.054699`\n",
    "increase in hourly wage for each year of education. The actual causal effect\n",
    "might be lower because of this confounding.\n",
    "\n",
    "Checking the variability of the coefficients\n",
    "--------------------------------------------\n",
    "\n",
    "We can check the coefficient variability through cross-validation:\n",
    "it is a form of data perturbation (related to\n",
    "`resampling <https://en.wikipedia.org/wiki/Resampling_(statistics)>`_).\n",
    "\n",
    "If coefficients vary significantly when changing the input dataset\n",
    "their robustness is not guaranteed, and they should probably be interpreted\n",
    "with caution."
   ]
  },
  {
   "cell_type": "code",
   "execution_count": null,
   "id": "35a6d75a",
   "metadata": {
    "lines_to_next_cell": 0
   },
   "outputs": [],
   "source": [
    "from sklearn.model_selection import RepeatedKFold, cross_validate\n",
    "\n",
    "cv = RepeatedKFold(n_splits=5, n_repeats=5, random_state=0)"
   ]
  },
  {
   "cell_type": "markdown",
   "id": "ad9b8c7a",
   "metadata": {},
   "source": [
    "### 📝 TODO: use the cross_validate function to evaluate the coefficients on repeated splits. Use the splitting strategy `cv` defined above."
   ]
  },
  {
   "cell_type": "code",
   "execution_count": null,
   "id": "d9cfe26f",
   "metadata": {
    "lines_to_next_cell": 0
   },
   "outputs": [],
   "source": [
    "# Assembling the coefficients\n",
    "coefs = pd.DataFrame(\n",
    "    [\n",
    "        est[-1].regressor_.coef_ * est[:-1].transform(X.iloc[train_idx]).std(axis=0)\n",
    "        for est, (train_idx, _) in zip(cv_model[\"estimator\"], cv.split(X, y))\n",
    "    ],\n",
    "    columns=feature_names,\n",
    ")"
   ]
  },
  {
   "cell_type": "code",
   "execution_count": null,
   "id": "a46fea32",
   "metadata": {},
   "outputs": [],
   "source": [
    "plt.figure(figsize=(9, 7))\n",
    "sns.stripplot(data=coefs, orient=\"h\", palette=\"dark:k\", alpha=0.5)\n",
    "sns.boxplot(data=coefs, orient=\"h\", color=\"cyan\", saturation=0.5, whis=10)\n",
    "plt.axvline(x=0, color=\".5\")\n",
    "plt.xlabel(\"Coefficient importance\")\n",
    "plt.title(\"Coefficient importance and its variability\")\n",
    "plt.suptitle(\"Ridge model, small regularization\")\n",
    "plt.subplots_adjust(left=0.3)"
   ]
  },
  {
   "cell_type": "markdown",
   "id": "c76e8852",
   "metadata": {
    "lines_to_next_cell": 0
   },
   "source": [
    "The problem of correlated variables\n",
    "-----------------------------------\n",
    "\n",
    "The AGE and EXPERIENCE coefficients are affected by strong variability which\n",
    "might be due to the collinearity between the 2 features: as AGE and\n",
    "EXPERIENCE vary together in the data, their effect is difficult to tease\n",
    "apart.\n",
    "\n",
    "To verify this interpretation we plot the variability of the AGE and\n",
    "EXPERIENCE coefficient.\n",
    "### 📝 TODO: use the plt.scatter for this.\n",
    ".. _covariation:"
   ]
  },
  {
   "cell_type": "code",
   "execution_count": null,
   "id": "b224cb60",
   "metadata": {
    "lines_to_next_cell": 0
   },
   "outputs": [],
   "source": [
    "# CODE HERE"
   ]
  },
  {
   "cell_type": "markdown",
   "id": "679eb1ef",
   "metadata": {
    "lines_to_next_cell": 0
   },
   "source": [
    "Two regions are populated: when the EXPERIENCE coefficient is\n",
    "positive the AGE one is negative and vice-versa.\n",
    "\n",
    "To go further we remove one of the 2 features and check what is the impact\n",
    "on the model stability.\n",
    "### 📝 TODO: drop the AGE column and run the same repeated split analysis on the dataset without this column."
   ]
  },
  {
   "cell_type": "code",
   "execution_count": null,
   "id": "c5685e50",
   "metadata": {},
   "outputs": [],
   "source": [
    "# CODE HERE\n",
    "cv_model = \n",
    "\n",
    "coefs = "
   ]
  },
  {
   "cell_type": "code",
   "execution_count": null,
   "id": "3c8846a1",
   "metadata": {},
   "outputs": [],
   "source": [
    "plt.figure(figsize=(9, 7))\n",
    "sns.stripplot(data=coefs, orient=\"h\", palette=\"dark:k\", alpha=0.5)\n",
    "sns.boxplot(data=coefs, orient=\"h\", color=\"cyan\", saturation=0.5)\n",
    "plt.axvline(x=0, color=\".5\")\n",
    "plt.title(\"Coefficient importance and its variability\")\n",
    "plt.xlabel(\"Coefficient importance\")\n",
    "plt.suptitle(\"Ridge model, small regularization, AGE dropped\")\n",
    "plt.subplots_adjust(left=0.3)"
   ]
  },
  {
   "cell_type": "markdown",
   "id": "e5a8b595",
   "metadata": {
    "lines_to_next_cell": 0
   },
   "source": [
    "The estimation of the EXPERIENCE coefficient now shows a much reduced\n",
    "variability. EXPERIENCE remains important for all models trained during\n",
    "cross-validation.\n",
    "\n",
    ".. _scaling_num:\n",
    "\n",
    "Preprocessing numerical variables\n",
    "---------------------------------\n",
    "\n",
    "As said above (see \":ref:`the-pipeline`\"), we could also choose to scale\n",
    "numerical values before training the model.\n",
    "This can be useful when we apply a similar amount of regularization to all of them\n",
    "in the ridge.\n",
    "The preprocessor is redefined in order to subtract the mean and scale\n",
    "variables to unit variance.\n",
    "from sklearn.preprocessing import StandardScaler\n",
    "### 📝 TODO: redifine the preprocessor to scale the numerical columns"
   ]
  },
  {
   "cell_type": "code",
   "execution_count": null,
   "id": "88fa1482",
   "metadata": {
    "lines_to_next_cell": 0
   },
   "outputs": [],
   "source": [
    "# CODE HERE\n",
    "preprocessor ="
   ]
  },
  {
   "cell_type": "code",
   "execution_count": null,
   "id": "df31b3c1",
   "metadata": {},
   "outputs": [],
   "source": [
    "# The model will stay unchanged.\n",
    "\n",
    "model = make_pipeline(\n",
    "    preprocessor,\n",
    "    TransformedTargetRegressor(\n",
    "        regressor=Ridge(alpha=1e-10), func=np.log10, inverse_func=sp.special.exp10\n",
    "    ),\n",
    ")\n",
    "model.fit(X_train, y_train)"
   ]
  },
  {
   "cell_type": "markdown",
   "id": "2af39405",
   "metadata": {
    "lines_to_next_cell": 0
   },
   "source": [
    "Again, we check the performance of the computed\n",
    "model using, for example, the median absolute error of the model and the R\n",
    "squared coefficient."
   ]
  },
  {
   "cell_type": "code",
   "execution_count": null,
   "id": "44f93672",
   "metadata": {},
   "outputs": [],
   "source": [
    "mae_train = median_absolute_error(y_train, model.predict(X_train))\n",
    "y_pred = model.predict(X_test)\n",
    "mae_test = median_absolute_error(y_test, y_pred)\n",
    "scores = {\n",
    "    \"MedAE on training set\": f\"{mae_train:.2f} $/hour\",\n",
    "    \"MedAE on testing set\": f\"{mae_test:.2f} $/hour\",\n",
    "}\n",
    "\n",
    "_, ax = plt.subplots(figsize=(5, 5))\n",
    "display = PredictionErrorDisplay.from_predictions(\n",
    "    y_test, y_pred, kind=\"actual_vs_predicted\", ax=ax, scatter_kwargs={\"alpha\": 0.5}\n",
    ")\n",
    "ax.set_title(\"Ridge model, small regularization\")\n",
    "for name, score in scores.items():\n",
    "    ax.plot([], [], \" \", label=f\"{name}: {score}\")\n",
    "ax.legend(loc=\"upper left\")\n",
    "plt.tight_layout()"
   ]
  },
  {
   "cell_type": "markdown",
   "id": "4339ba00",
   "metadata": {
    "lines_to_next_cell": 0
   },
   "source": [
    "For the coefficient analysis, scaling is not needed this time because it\n",
    "was performed during the preprocessing step.\n",
    "### 📝 TODO: plot the new model coefficients"
   ]
  },
  {
   "cell_type": "code",
   "execution_count": null,
   "id": "9da183da",
   "metadata": {
    "lines_to_next_cell": 0
   },
   "outputs": [],
   "source": [
    "coefs ="
   ]
  },
  {
   "cell_type": "markdown",
   "id": "e374240e",
   "metadata": {
    "lines_to_next_cell": 0
   },
   "source": [
    "We now inspect the coefficients across several cross-validation folds. As in\n",
    "the above example, we do not need to scale the coefficients by the std. dev.\n",
    "of the feature values since this scaling was already\n",
    "done in the preprocessing step of the pipeline."
   ]
  },
  {
   "cell_type": "code",
   "execution_count": null,
   "id": "b2a4d1d9",
   "metadata": {},
   "outputs": [],
   "source": [
    "cv_model = cross_validate(\n",
    "    model,\n",
    "    X,\n",
    "    y,\n",
    "    cv=cv,\n",
    "    return_estimator=True,\n",
    "    n_jobs=2,\n",
    ")\n",
    "coefs = pd.DataFrame(\n",
    "    [est[-1].regressor_.coef_ for est in cv_model[\"estimator\"]], columns=feature_names\n",
    ")"
   ]
  },
  {
   "cell_type": "code",
   "execution_count": null,
   "id": "a5a8168e",
   "metadata": {},
   "outputs": [],
   "source": [
    "plt.figure(figsize=(9, 7))\n",
    "sns.stripplot(data=coefs, orient=\"h\", palette=\"dark:k\", alpha=0.5)\n",
    "sns.boxplot(data=coefs, orient=\"h\", color=\"cyan\", saturation=0.5, whis=10)\n",
    "plt.axvline(x=0, color=\".5\")\n",
    "plt.title(\"Coefficient variability\")\n",
    "plt.subplots_adjust(left=0.3)"
   ]
  },
  {
   "cell_type": "markdown",
   "id": "ab433628",
   "metadata": {
    "lines_to_next_cell": 0
   },
   "source": [
    "The result is quite similar to the non-normalized case.\n",
    "\n",
    "Linear models with regularization\n",
    "---------------------------------\n",
    "\n",
    "In machine-learning practice, ridge regression is more often used with\n",
    "non-negligible regularization.\n",
    "\n",
    "Above, we limited this regularization to a very little amount. Regularization\n",
    "improves the conditioning of the problem and reduces the variance of the\n",
    "estimates. :class:`~sklearn.linear_model.RidgeCV` applies cross validation\n",
    "in order to determine which value of the regularization parameter (`alpha`)\n",
    "is best suited for prediction."
   ]
  },
  {
   "cell_type": "code",
   "execution_count": null,
   "id": "954983a4",
   "metadata": {},
   "outputs": [],
   "source": [
    "from sklearn.linear_model import RidgeCV\n",
    "\n",
    "alphas = np.logspace(-10, 10, 21)  # alpha values to be chosen from by cross-validation\n",
    "model = make_pipeline(\n",
    "    preprocessor,\n",
    "    TransformedTargetRegressor(\n",
    "        regressor=RidgeCV(alphas=alphas),\n",
    "        func=np.log10,\n",
    "        inverse_func=sp.special.exp10,\n",
    "    ),\n",
    ")\n",
    "model.fit(X_train, y_train)"
   ]
  },
  {
   "cell_type": "code",
   "execution_count": null,
   "id": "fe25d7d4",
   "metadata": {},
   "outputs": [],
   "source": [
    "# First we check which value of :math:`\\alpha` has been selected.\n",
    "\n",
    "model[-1].regressor_.alpha_"
   ]
  },
  {
   "cell_type": "markdown",
   "id": "dd88a8a6",
   "metadata": {
    "lines_to_next_cell": 0
   },
   "source": [
    "Then we check the quality of the predictions.\n",
    "### 📝 TODO: check the performances of the new regularized model."
   ]
  },
  {
   "cell_type": "code",
   "execution_count": null,
   "id": "6dfc3889",
   "metadata": {},
   "outputs": [],
   "source": [
    "mae_train =\n",
    "mae_test =\n",
    "scores = {\n",
    "    \"MedAE on training set\": f\"{mae_train:.2f} $/hour\",\n",
    "    \"MedAE on testing set\": f\"{mae_test:.2f} $/hour\",\n",
    "}\n",
    "\n",
    "_, ax = plt.subplots(figsize=(5, 5))\n",
    "display = PredictionErrorDisplay.from_predictions(\n",
    "    y_test, y_pred, kind=\"actual_vs_predicted\", ax=ax, scatter_kwargs={\"alpha\": 0.5}\n",
    ")\n",
    "ax.set_title(\"Ridge model, optimum regularization\")\n",
    "for name, score in scores.items():\n",
    "    ax.plot([], [], \" \", label=f\"{name}: {score}\")\n",
    "ax.legend(loc=\"upper left\")\n",
    "plt.tight_layout()"
   ]
  },
  {
   "cell_type": "markdown",
   "id": "82fb505b",
   "metadata": {
    "lines_to_next_cell": 0
   },
   "source": [
    "The ability to reproduce the data of the regularized model is similar to\n",
    "the one of the non-regularized model.\n",
    "### 📝 TODO: plot the new regularized model coefficients"
   ]
  },
  {
   "cell_type": "code",
   "execution_count": null,
   "id": "207e3762",
   "metadata": {
    "lines_to_next_cell": 0
   },
   "outputs": [],
   "source": [
    "# CODE HERE\n",
    "coefs ="
   ]
  },
  {
   "cell_type": "markdown",
   "id": "d43ff080",
   "metadata": {},
   "source": [
    "The coefficients are significantly different.\n",
    "AGE and EXPERIENCE coefficients are both positive but they now have less\n",
    "influence on the prediction.\n",
    "\n",
    "The regularization reduces the influence of correlated\n",
    "variables on the model because the weight is shared between the two\n",
    "predictive variables, so neither alone would have strong weights.\n",
    "\n",
    "On the other hand, the weights obtained with regularization are more\n",
    "stable (see the :ref:`ridge_regression` User Guide section). This\n",
    "increased stability is visible from the plot, obtained from data\n",
    "perturbations, in a cross-validation. This plot can be compared with\n",
    "the :ref:`previous one<covariation>`.\n",
    "\n",
    "cv_model = cross_validate(\n",
    "    model,\n",
    "    X,\n",
    "    y,\n",
    "    cv=cv,\n",
    "    return_estimator=True,\n",
    "    n_jobs=2,\n",
    ")\n",
    "coefs = pd.DataFrame(\n",
    "    [est[-1].regressor_.coef_ for est in cv_model[\"estimator\"]], columns=feature_names\n",
    ")"
   ]
  },
  {
   "cell_type": "code",
   "execution_count": null,
   "id": "c29070d6",
   "metadata": {},
   "outputs": [],
   "source": [
    "plt.ylabel(\"Age coefficient\")\n",
    "plt.xlabel(\"Experience coefficient\")\n",
    "plt.grid(True)\n",
    "plt.xlim(-0.4, 0.5)\n",
    "plt.ylim(-0.4, 0.5)\n",
    "plt.scatter(coefs[\"AGE\"], coefs[\"EXPERIENCE\"])\n",
    "_ = plt.title(\"Co-variations of coefficients for AGE and EXPERIENCE across folds\")"
   ]
  },
  {
   "cell_type": "markdown",
   "id": "4369cfe9",
   "metadata": {
    "lines_to_next_cell": 0
   },
   "source": [
    "Linear models with sparse coefficients\n",
    "--------------------------------------\n",
    "\n",
    "Another possibility to take into account correlated variables in the dataset,\n",
    "is to estimate sparse coefficients. In some way we already did it manually\n",
    "when we dropped the AGE column in a previous ridge estimation.\n",
    "\n",
    "Lasso models (see the :ref:`lasso` User Guide section) estimates sparse\n",
    "coefficients. :class:`~sklearn.linear_model.LassoCV` applies cross\n",
    "validation in order to determine which value of the regularization parameter\n",
    "(`alpha`) is best suited for the model estimation.\n",
    "### 📝 TODO: do the same analysis with LassoCV (L1 regularization)"
   ]
  },
  {
   "cell_type": "code",
   "execution_count": null,
   "id": "8e030116",
   "metadata": {
    "lines_to_next_cell": 0
   },
   "outputs": [],
   "source": [
    "from sklearn.linear_model import LassoCV\n",
    "\n",
    "alphas = np.logspace(-10, 10, 21)  # alpha values to be chosen from by cross-validation\n",
    "model = "
   ]
  },
  {
   "cell_type": "code",
   "execution_count": null,
   "id": "ba13460d",
   "metadata": {},
   "outputs": [],
   "source": [
    "# First we verify which value of :math:`\\alpha` has been selected.\n",
    "\n",
    "model[-1].regressor_.alpha_"
   ]
  },
  {
   "cell_type": "markdown",
   "id": "3ac7558b",
   "metadata": {
    "lines_to_next_cell": 0
   },
   "source": [
    "Then we check the quality of the predictions."
   ]
  },
  {
   "cell_type": "code",
   "execution_count": null,
   "id": "16b56999",
   "metadata": {},
   "outputs": [],
   "source": [
    "mae_train = median_absolute_error(y_train, model.predict(X_train))\n",
    "y_pred = model.predict(X_test)\n",
    "mae_test = median_absolute_error(y_test, y_pred)\n",
    "scores = {\n",
    "    \"MedAE on training set\": f\"{mae_train:.2f} $/hour\",\n",
    "    \"MedAE on testing set\": f\"{mae_test:.2f} $/hour\",\n",
    "}\n",
    "\n",
    "_, ax = plt.subplots(figsize=(6, 6))\n",
    "display = PredictionErrorDisplay.from_predictions(\n",
    "    y_test, y_pred, kind=\"actual_vs_predicted\", ax=ax, scatter_kwargs={\"alpha\": 0.5}\n",
    ")\n",
    "ax.set_title(\"Lasso model, optimum regularization\")\n",
    "for name, score in scores.items():\n",
    "    ax.plot([], [], \" \", label=f\"{name}: {score}\")\n",
    "ax.legend(loc=\"upper left\")\n",
    "plt.tight_layout()"
   ]
  },
  {
   "cell_type": "markdown",
   "id": "30747cde",
   "metadata": {
    "lines_to_next_cell": 0
   },
   "source": [
    "For our dataset, again the model is not very predictive."
   ]
  },
  {
   "cell_type": "code",
   "execution_count": null,
   "id": "d6493333",
   "metadata": {},
   "outputs": [],
   "source": [
    "coefs = pd.DataFrame(\n",
    "    model[-1].regressor_.coef_,\n",
    "    columns=[\"Coefficients importance\"],\n",
    "    index=feature_names,\n",
    ")\n",
    "coefs.plot(kind=\"barh\", figsize=(9, 7))\n",
    "plt.title(\"Lasso model, optimum regularization, normalized variables\")\n",
    "plt.axvline(x=0, color=\".5\")\n",
    "plt.subplots_adjust(left=0.3)"
   ]
  },
  {
   "cell_type": "markdown",
   "id": "3f58e1df",
   "metadata": {
    "lines_to_next_cell": 0
   },
   "source": [
    "A Lasso model identifies the correlation between\n",
    "AGE and EXPERIENCE and suppresses one of them for the sake of the prediction.\n",
    "\n",
    "It is important to keep in mind that the coefficients that have been\n",
    "dropped may still be related to the outcome by themselves: the model\n",
    "chose to suppress them because they bring little or no additional\n",
    "information on top of the other features. Additionally, this selection\n",
    "is unstable for correlated features, and should be interpreted with\n",
    "caution.\n",
    "\n",
    "Indeed, we can check the variability of the coefficients across folds."
   ]
  },
  {
   "cell_type": "code",
   "execution_count": null,
   "id": "e98cfc3e",
   "metadata": {},
   "outputs": [],
   "source": [
    "cv_model = cross_validate(\n",
    "    model,\n",
    "    X,\n",
    "    y,\n",
    "    cv=cv,\n",
    "    return_estimator=True,\n",
    "    n_jobs=2,\n",
    ")\n",
    "coefs = pd.DataFrame(\n",
    "    [est[-1].regressor_.coef_ for est in cv_model[\"estimator\"]], columns=feature_names\n",
    ")"
   ]
  },
  {
   "cell_type": "code",
   "execution_count": null,
   "id": "13c5ceb9",
   "metadata": {},
   "outputs": [],
   "source": [
    "plt.figure(figsize=(9, 7))\n",
    "sns.stripplot(data=coefs, orient=\"h\", palette=\"dark:k\", alpha=0.5)\n",
    "sns.boxplot(data=coefs, orient=\"h\", color=\"cyan\", saturation=0.5, whis=100)\n",
    "plt.axvline(x=0, color=\".5\")\n",
    "plt.title(\"Coefficient variability\")\n",
    "plt.subplots_adjust(left=0.3)"
   ]
  },
  {
   "cell_type": "markdown",
   "id": "43277510",
   "metadata": {},
   "source": [
    "We observe that the AGE and EXPERIENCE coefficients are varying a lot\n",
    "depending of the fold.\n",
    "\n",
    "Wrong causal interpretation\n",
    "---------------------------\n",
    "\n",
    "Policy makers might want to know the effect of education on wage to assess\n",
    "whether or not a certain policy designed to entice people to pursue more\n",
    "education would make economic sense. While Machine Learning models are great\n",
    "for measuring statistical associations, they are generally unable to infer\n",
    "causal effects.\n",
    "\n",
    "It might be tempting to look at the coefficient of education on wage from our\n",
    "last model (or any model for that matter) and conclude that it captures the\n",
    "true effect of a change in the standardized education variable on wages.\n",
    "\n",
    "Unfortunately there are likely unobserved confounding variables that either\n",
    "inflate or deflate that coefficient. A confounding variable is a variable that\n",
    "causes both EDUCATION and WAGE. One example of such variable is ability.\n",
    "Presumably, more able people are more likely to pursue education while at the\n",
    "same time being more likely to earn a higher hourly wage at any level of\n",
    "education. In this case, ability induces a positive `Omitted Variable Bias\n",
    "<https://en.wikipedia.org/wiki/Omitted-variable_bias>`_ (OVB) on the EDUCATION\n",
    "coefficient, thereby exaggerating the effect of education on wages.\n",
    "\n",
    "See the :ref:`sphx_glr_auto_examples_inspection_plot_causal_interpretation.py`\n",
    "for a simulated case of ability OVB.\n",
    "\n",
    "Lessons learned\n",
    "---------------\n",
    "\n",
    "* Coefficients must be scaled to the same unit of measure to retrieve\n",
    "  feature importance. Scaling them with the standard-deviation of the\n",
    "  feature is a useful proxy.\n",
    "* Interpreting causality is difficult when there are confounding effects. If\n",
    "  the relationship between two variables is also affected by something\n",
    "  unobserved, we should be careful when making conclusions about causality.\n",
    "* Coefficients in multivariate linear models represent the dependency\n",
    "  between a given feature and the target, **conditional** on the other\n",
    "  features.\n",
    "* Correlated features induce instabilities in the coefficients of linear\n",
    "  models and their effects cannot be well teased apart.\n",
    "* Different linear models respond differently to feature correlation and\n",
    "  coefficients could significantly vary from one another.\n",
    "* Inspecting coefficients across the folds of a cross-validation loop\n",
    "  gives an idea of their stability.\n",
    "* Coefficients are unlikely to have any causal meaning. They tend\n",
    "  to be biased by unobserved confounders.\n",
    "* Inspection tools may not necessarily provide insights on the true\n",
    "  data generating process."
   ]
  }
 ],
 "metadata": {
  "jupytext": {
   "cell_metadata_filter": "-all",
   "main_language": "python",
   "notebook_metadata_filter": "-all"
  }
 },
 "nbformat": 4,
 "nbformat_minor": 5
}
